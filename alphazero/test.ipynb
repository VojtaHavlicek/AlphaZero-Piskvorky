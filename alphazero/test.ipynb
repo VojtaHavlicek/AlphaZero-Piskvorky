{
 "cells": [
  {
   "cell_type": "code",
   "execution_count": 1,
   "id": "edcb9a45",
   "metadata": {},
   "outputs": [
    {
     "name": "stdout",
     "output_type": "stream",
     "text": [
      "----- Self-play generation started -----\n",
      "[SelfPlayManager] Collecting 100 games with 4 workers...\n"
     ]
    },
    {
     "name": "stderr",
     "output_type": "stream",
     "text": [
      "[SelfPlayManager] Self-play: 100%|████████████| 100/100 [00:06<00:00, 15.05it/s]\n"
     ]
    },
    {
     "name": "stdout",
     "output_type": "stream",
     "text": [
      "[SelfPlayManager] Collected 100 games.\n"
     ]
    }
   ],
   "source": [
    "from games import TicTacToe\n",
    "from net import TicTacToeNet\n",
    "from self_play import SelfPlayManager\n",
    "from trainer import NeuralNetworkTrainer\n",
    "\n",
    "net = TicTacToeNet()\n",
    "trainer = NeuralNetworkTrainer(net, device='cpu')\n",
    "\n",
    "print(\"----- Self-play generation started -----\")\n",
    "self_play_manager = SelfPlayManager(net, TicTacToe)\n",
    "data = self_play_manager.generate_self_play(num_games=100, num_workers=4)\n"
   ]
  },
  {
   "cell_type": "code",
   "execution_count": 2,
   "id": "5c4d4468",
   "metadata": {},
   "outputs": [
    {
     "name": "stdout",
     "output_type": "stream",
     "text": [
      "\n",
      "----- Training started -----\n",
      "[Trainer] Training started...\n"
     ]
    },
    {
     "name": "stderr",
     "output_type": "stream",
     "text": [
      "[Trainer] Epochs: 100%|█████████████████████████| 10/10 [00:00<00:00, 40.86it/s]"
     ]
    },
    {
     "name": "stdout",
     "output_type": "stream",
     "text": [
      "[Trainer] Training finished. Loss: 33.5524, Policy Loss: 23.9204, Value Loss: 9.6320\n",
      "Are the models the same?  True\n",
      "\n"
     ]
    },
    {
     "name": "stderr",
     "output_type": "stream",
     "text": [
      "\n"
     ]
    }
   ],
   "source": [
    "\n",
    "print()\n",
    "print(\"----- Training started -----\")\n",
    "trainer.train(data, epochs=10)\n",
    "\n",
    "print(\"Are the models the same? \", net == trainer.net)\n",
    "print()\n"
   ]
  },
  {
   "cell_type": "code",
   "execution_count": 4,
   "id": "ad2f5c6f",
   "metadata": {},
   "outputs": [
    {
     "name": "stdout",
     "output_type": "stream",
     "text": [
      "----- Model evaluation and promotion started -----\n"
     ]
    },
    {
     "ename": "RuntimeError",
     "evalue": "Error(s) in loading state_dict for TicTacToeNet:\n\tMissing key(s) in state_dict: \"fc1.weight\", \"fc1.bias\", \"fc2.weight\", \"fc2.bias\", \"policy_head.weight\", \"policy_head.bias\", \"value_head.weight\", \"value_head.bias\". \n\tUnexpected key(s) in state_dict: \"conv.0.weight\", \"conv.0.bias\", \"conv.2.weight\", \"conv.2.bias\", \"fully_connected_policy.weight\", \"fully_connected_policy.bias\", \"fully_connected_value.weight\", \"fully_connected_value.bias\". ",
     "output_type": "error",
     "traceback": [
      "\u001b[31m---------------------------------------------------------------------------\u001b[39m",
      "\u001b[31mRuntimeError\u001b[39m                              Traceback (most recent call last)",
      "\u001b[36mCell\u001b[39m\u001b[36m \u001b[39m\u001b[32mIn[4]\u001b[39m\u001b[32m, line 8\u001b[39m\n\u001b[32m      5\u001b[39m evaluator = ModelEvaluator(game_class=TicTacToe, mcts_params={\u001b[33m\"\u001b[39m\u001b[33mnum_simulations\u001b[39m\u001b[33m\"\u001b[39m: \u001b[32m150\u001b[39m})\n\u001b[32m      6\u001b[39m promoter = ModelPromoter(model_dir=\u001b[33m\"\u001b[39m\u001b[33mmodels\u001b[39m\u001b[33m\"\u001b[39m, evaluator=evaluator, net_class=TicTacToeNet)\n\u001b[32m----> \u001b[39m\u001b[32m8\u001b[39m best_net = \u001b[43mpromoter\u001b[49m\u001b[43m.\u001b[49m\u001b[43mget_best_model\u001b[49m\u001b[43m(\u001b[49m\u001b[43m)\u001b[49m\n\u001b[32m      9\u001b[39m win_rate, metrics = promoter.evaluate_and_maybe_promote(net, metadata={\u001b[33m\"\u001b[39m\u001b[33mepisode\u001b[39m\u001b[33m\"\u001b[39m: \u001b[32m0\u001b[39m})\n\u001b[32m     11\u001b[39m \u001b[38;5;28mprint\u001b[39m()\n",
      "\u001b[36mFile \u001b[39m\u001b[32m~/Documents/GitHub/strategy-ai/alphazero/promoter.py:34\u001b[39m, in \u001b[36mModelPromoter.get_best_model\u001b[39m\u001b[34m(self)\u001b[39m\n\u001b[32m     32\u001b[39m     \u001b[38;5;28;01mreturn\u001b[39;00m \u001b[38;5;28mself\u001b[39m.net_class().to(\u001b[38;5;28mself\u001b[39m.device)\n\u001b[32m     33\u001b[39m model = \u001b[38;5;28mself\u001b[39m.net_class().to(\u001b[38;5;28mself\u001b[39m.device)\n\u001b[32m---> \u001b[39m\u001b[32m34\u001b[39m \u001b[43mmodel\u001b[49m\u001b[43m.\u001b[49m\u001b[43mload_state_dict\u001b[49m\u001b[43m(\u001b[49m\u001b[43mtorch\u001b[49m\u001b[43m.\u001b[49m\u001b[43mload\u001b[49m\u001b[43m(\u001b[49m\u001b[38;5;28;43mself\u001b[39;49m\u001b[43m.\u001b[49m\u001b[43mbest_path\u001b[49m\u001b[43m,\u001b[49m\u001b[43m \u001b[49m\u001b[43mmap_location\u001b[49m\u001b[43m=\u001b[49m\u001b[38;5;28;43mself\u001b[39;49m\u001b[43m.\u001b[49m\u001b[43mdevice\u001b[49m\u001b[43m)\u001b[49m\u001b[43m)\u001b[49m\n\u001b[32m     35\u001b[39m \u001b[38;5;28;01mreturn\u001b[39;00m model\n",
      "\u001b[36mFile \u001b[39m\u001b[32m~/Documents/GitHub/strategy-ai/.venv/lib/python3.11/site-packages/torch/nn/modules/module.py:2593\u001b[39m, in \u001b[36mModule.load_state_dict\u001b[39m\u001b[34m(self, state_dict, strict, assign)\u001b[39m\n\u001b[32m   2585\u001b[39m         error_msgs.insert(\n\u001b[32m   2586\u001b[39m             \u001b[32m0\u001b[39m,\n\u001b[32m   2587\u001b[39m             \u001b[33m\"\u001b[39m\u001b[33mMissing key(s) in state_dict: \u001b[39m\u001b[38;5;132;01m{}\u001b[39;00m\u001b[33m. \u001b[39m\u001b[33m\"\u001b[39m.format(\n\u001b[32m   2588\u001b[39m                 \u001b[33m\"\u001b[39m\u001b[33m, \u001b[39m\u001b[33m\"\u001b[39m.join(\u001b[33mf\u001b[39m\u001b[33m'\u001b[39m\u001b[33m\"\u001b[39m\u001b[38;5;132;01m{\u001b[39;00mk\u001b[38;5;132;01m}\u001b[39;00m\u001b[33m\"\u001b[39m\u001b[33m'\u001b[39m \u001b[38;5;28;01mfor\u001b[39;00m k \u001b[38;5;129;01min\u001b[39;00m missing_keys)\n\u001b[32m   2589\u001b[39m             ),\n\u001b[32m   2590\u001b[39m         )\n\u001b[32m   2592\u001b[39m \u001b[38;5;28;01mif\u001b[39;00m \u001b[38;5;28mlen\u001b[39m(error_msgs) > \u001b[32m0\u001b[39m:\n\u001b[32m-> \u001b[39m\u001b[32m2593\u001b[39m     \u001b[38;5;28;01mraise\u001b[39;00m \u001b[38;5;167;01mRuntimeError\u001b[39;00m(\n\u001b[32m   2594\u001b[39m         \u001b[33m\"\u001b[39m\u001b[33mError(s) in loading state_dict for \u001b[39m\u001b[38;5;132;01m{}\u001b[39;00m\u001b[33m:\u001b[39m\u001b[38;5;130;01m\\n\u001b[39;00m\u001b[38;5;130;01m\\t\u001b[39;00m\u001b[38;5;132;01m{}\u001b[39;00m\u001b[33m\"\u001b[39m.format(\n\u001b[32m   2595\u001b[39m             \u001b[38;5;28mself\u001b[39m.\u001b[34m__class__\u001b[39m.\u001b[34m__name__\u001b[39m, \u001b[33m\"\u001b[39m\u001b[38;5;130;01m\\n\u001b[39;00m\u001b[38;5;130;01m\\t\u001b[39;00m\u001b[33m\"\u001b[39m.join(error_msgs)\n\u001b[32m   2596\u001b[39m         )\n\u001b[32m   2597\u001b[39m     )\n\u001b[32m   2598\u001b[39m \u001b[38;5;28;01mreturn\u001b[39;00m _IncompatibleKeys(missing_keys, unexpected_keys)\n",
      "\u001b[31mRuntimeError\u001b[39m: Error(s) in loading state_dict for TicTacToeNet:\n\tMissing key(s) in state_dict: \"fc1.weight\", \"fc1.bias\", \"fc2.weight\", \"fc2.bias\", \"policy_head.weight\", \"policy_head.bias\", \"value_head.weight\", \"value_head.bias\". \n\tUnexpected key(s) in state_dict: \"conv.0.weight\", \"conv.0.bias\", \"conv.2.weight\", \"conv.2.bias\", \"fully_connected_policy.weight\", \"fully_connected_policy.bias\", \"fully_connected_value.weight\", \"fully_connected_value.bias\". "
     ]
    }
   ],
   "source": [
    "from evaluator import ModelEvaluator\n",
    "from promoter import ModelPromoter\n",
    "\n",
    "print(\"----- Model evaluation and promotion started -----\")\n",
    "evaluator = ModelEvaluator(game_class=TicTacToe, mcts_params={\"num_simulations\": 150})\n",
    "promoter = ModelPromoter(model_dir=\"models\", evaluator=evaluator, net_class=TicTacToeNet)\n",
    "\n",
    "best_net = promoter.get_best_model()\n",
    "win_rate, metrics = promoter.evaluate_and_maybe_promote(net, metadata={\"episode\": 0})\n",
    "\n",
    "print()\n",
    "print(\"----- Evaluation complete -----\")\n",
    "# Optional: Print summary\n",
    "print(f\"[Summary] Win rate: {win_rate:.2%} | Metrics: {metrics}\")"
   ]
  },
  {
   "cell_type": "code",
   "execution_count": 4,
   "id": "4c0df66d",
   "metadata": {},
   "outputs": [],
   "source": [
    "from main import human_vs_ai"
   ]
  },
  {
   "cell_type": "code",
   "execution_count": 9,
   "id": "8b5bb986",
   "metadata": {},
   "outputs": [
    {
     "name": "stdout",
     "output_type": "stream",
     "text": [
      "You are playing as X (1). Type moves like: 3 4\n",
      " . . .\n",
      " . . .\n",
      " . . .\n",
      "\n",
      " . . .\n",
      " . X .\n",
      " . . .\n",
      "\n",
      "🤖 AI is thinking...\n",
      "🤖 AI plays: (0, 1)\n",
      " . O .\n",
      " . X .\n",
      " . . .\n",
      "\n",
      "Illegal move, try again.\n",
      " . O .\n",
      " . X .\n",
      " . . .\n",
      "\n",
      " X O .\n",
      " . X .\n",
      " . . .\n",
      "\n",
      "🤖 AI is thinking...\n",
      "🤖 AI plays: (2, 2)\n",
      " X O .\n",
      " . X .\n",
      " . . O\n",
      "\n",
      " X O X\n",
      " . X .\n",
      " . . O\n",
      "\n",
      "🤖 AI is thinking...\n",
      "🤖 AI plays: (2, 1)\n",
      " X O X\n",
      " . X .\n",
      " . O O\n",
      "\n",
      " X O X\n",
      " . X .\n",
      " X O O\n",
      "\n",
      "🎉 You win!\n"
     ]
    }
   ],
   "source": [
    "human_vs_ai(model = net)"
   ]
  },
  {
   "cell_type": "code",
   "execution_count": null,
   "id": "8ca7d832",
   "metadata": {},
   "outputs": [],
   "source": []
  }
 ],
 "metadata": {
  "kernelspec": {
   "display_name": ".venv",
   "language": "python",
   "name": "python3"
  },
  "language_info": {
   "codemirror_mode": {
    "name": "ipython",
    "version": 3
   },
   "file_extension": ".py",
   "mimetype": "text/x-python",
   "name": "python",
   "nbconvert_exporter": "python",
   "pygments_lexer": "ipython3",
   "version": "3.11.6"
  }
 },
 "nbformat": 4,
 "nbformat_minor": 5
}
