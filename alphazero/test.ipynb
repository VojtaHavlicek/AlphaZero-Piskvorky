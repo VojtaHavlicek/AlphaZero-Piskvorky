{
 "cells": [
  {
   "cell_type": "code",
   "execution_count": 1,
   "id": "edcb9a45",
   "metadata": {},
   "outputs": [
    {
     "name": "stdout",
     "output_type": "stream",
     "text": [
      "----- Self-play generation started -----\n",
      "[SelfPlayManager] Collecting 100 games with 4 workers...\n"
     ]
    },
    {
     "name": "stderr",
     "output_type": "stream",
     "text": [
      "[SelfPlayManager] Self-play: 100%|████████████| 100/100 [00:05<00:00, 17.39it/s]\n"
     ]
    },
    {
     "name": "stdout",
     "output_type": "stream",
     "text": [
      "[SelfPlayManager] Collected 100 games.\n"
     ]
    }
   ],
   "source": [
    "from self_play import SelfPlayManager\n",
    "from games import TicTacToe\n",
    "from net import TicTacToeNet\n",
    "from trainer import NeuralNetworkTrainer\n",
    "\n",
    "net = TicTacToeNet()\n",
    "trainer = NeuralNetworkTrainer(net, device='cpu')\n",
    "\n",
    "print(\"----- Self-play generation started -----\")\n",
    "self_play_manager = SelfPlayManager(net, TicTacToe)\n",
    "data = self_play_manager.generate_self_play(num_games=100, num_workers=4)\n"
   ]
  },
  {
   "cell_type": "code",
   "execution_count": 2,
   "id": "5c4d4468",
   "metadata": {},
   "outputs": [
    {
     "name": "stdout",
     "output_type": "stream",
     "text": [
      "\n",
      "----- Training started -----\n",
      "[Trainer] Training started...\n"
     ]
    },
    {
     "name": "stderr",
     "output_type": "stream",
     "text": [
      "[Trainer] Epochs: 100%|█████████████████████████| 10/10 [00:01<00:00,  8.64it/s]"
     ]
    },
    {
     "name": "stdout",
     "output_type": "stream",
     "text": [
      "[Trainer] Training finished. Loss: 30.5803, Policy Loss: 20.8856, Value Loss: 9.6946\n",
      "Are the models the same?  True\n",
      "\n"
     ]
    },
    {
     "name": "stderr",
     "output_type": "stream",
     "text": [
      "\n"
     ]
    }
   ],
   "source": [
    "\n",
    "print()\n",
    "print(\"----- Training started -----\")\n",
    "trainer.train(data, epochs=10)\n",
    "\n",
    "print(\"Are the models the same? \", net == trainer.net)\n",
    "print()\n"
   ]
  },
  {
   "cell_type": "code",
   "execution_count": 3,
   "id": "ad2f5c6f",
   "metadata": {},
   "outputs": [
    {
     "name": "stdout",
     "output_type": "stream",
     "text": [
      "----- Model evaluation and promotion started -----\n"
     ]
    },
    {
     "name": "stderr",
     "output_type": "stream",
     "text": [
      "[Evaluator] Evaluating: 100%|███████████████████| 20/20 [00:03<00:00,  6.61it/s]"
     ]
    },
    {
     "name": "stdout",
     "output_type": "stream",
     "text": [
      "[Evaluator]: Candidate Win Rate: 64.29% (W:9 L:5 D:6)\n",
      "[Promoter]: ✅ Promoted new model with win rate 64.29% → models/model_20250714_173742.pt\n",
      "Metadata: {'episode': 0}\n",
      "\n",
      "----- Evaluation complete -----\n",
      "[Summary] Win rate: 64.29% | Metrics: {'wins': 9, 'losses': 5, 'draws': 6, 'total': 14, 'win_rate': 0.6428571428571429}\n"
     ]
    },
    {
     "name": "stderr",
     "output_type": "stream",
     "text": [
      "\n"
     ]
    }
   ],
   "source": [
    "from promoter import ModelPromoter\n",
    "from evaluator import ModelEvaluator\n",
    "\n",
    "print(\"----- Model evaluation and promotion started -----\")\n",
    "evaluator = ModelEvaluator(game_class=TicTacToe, mcts_params={\"num_simulations\": 150})\n",
    "promoter = ModelPromoter(model_dir=\"models\", evaluator=evaluator, net_class=TicTacToeNet)\n",
    "\n",
    "best_net = promoter.get_best_model()\n",
    "win_rate, metrics = promoter.evaluate_and_maybe_promote(net, metadata={\"episode\": 0})\n",
    "\n",
    "print()\n",
    "print(\"----- Evaluation complete -----\")\n",
    "# Optional: Print summary\n",
    "print(f\"[Summary] Win rate: {win_rate:.2%} | Metrics: {metrics}\")"
   ]
  },
  {
   "cell_type": "code",
   "execution_count": 4,
   "id": "4c0df66d",
   "metadata": {},
   "outputs": [],
   "source": [
    "from main import human_vs_ai"
   ]
  },
  {
   "cell_type": "code",
   "execution_count": 9,
   "id": "8b5bb986",
   "metadata": {},
   "outputs": [
    {
     "name": "stdout",
     "output_type": "stream",
     "text": [
      "You are playing as X (1). Type moves like: 3 4\n",
      " . . .\n",
      " . . .\n",
      " . . .\n",
      "\n",
      " . . .\n",
      " . X .\n",
      " . . .\n",
      "\n",
      "🤖 AI is thinking...\n",
      "🤖 AI plays: (0, 1)\n",
      " . O .\n",
      " . X .\n",
      " . . .\n",
      "\n",
      "Illegal move, try again.\n",
      " . O .\n",
      " . X .\n",
      " . . .\n",
      "\n",
      " X O .\n",
      " . X .\n",
      " . . .\n",
      "\n",
      "🤖 AI is thinking...\n",
      "🤖 AI plays: (2, 2)\n",
      " X O .\n",
      " . X .\n",
      " . . O\n",
      "\n",
      " X O X\n",
      " . X .\n",
      " . . O\n",
      "\n",
      "🤖 AI is thinking...\n",
      "🤖 AI plays: (2, 1)\n",
      " X O X\n",
      " . X .\n",
      " . O O\n",
      "\n",
      " X O X\n",
      " . X .\n",
      " X O O\n",
      "\n",
      "🎉 You win!\n"
     ]
    }
   ],
   "source": [
    "human_vs_ai(model = net)"
   ]
  },
  {
   "cell_type": "code",
   "execution_count": null,
   "id": "8ca7d832",
   "metadata": {},
   "outputs": [],
   "source": []
  }
 ],
 "metadata": {
  "kernelspec": {
   "display_name": ".venv",
   "language": "python",
   "name": "python3"
  },
  "language_info": {
   "codemirror_mode": {
    "name": "ipython",
    "version": 3
   },
   "file_extension": ".py",
   "mimetype": "text/x-python",
   "name": "python",
   "nbconvert_exporter": "python",
   "pygments_lexer": "ipython3",
   "version": "3.11.6"
  }
 },
 "nbformat": 4,
 "nbformat_minor": 5
}
