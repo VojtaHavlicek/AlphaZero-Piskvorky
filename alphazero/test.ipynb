{
 "cells": [
  {
   "cell_type": "code",
   "execution_count": 1,
   "id": "7581bd3a",
   "metadata": {},
   "outputs": [],
   "source": [
    "from games import TicTacToe"
   ]
  },
  {
   "cell_type": "code",
   "execution_count": 2,
   "id": "f017af61",
   "metadata": {},
   "outputs": [
    {
     "name": "stdout",
     "output_type": "stream",
     "text": [
      "Symmetry 1:\n",
      "State:\n",
      " tensor([[[[0., 0., 0.],\n",
      "          [0., 0., 0.],\n",
      "          [0., 0., 0.]],\n",
      "\n",
      "         [[0., 0., 0.],\n",
      "          [0., 0., 0.],\n",
      "          [0., 0., 0.]],\n",
      "\n",
      "         [[1., 1., 1.],\n",
      "          [1., 1., 1.],\n",
      "          [1., 1., 1.]]]])\n",
      "Policy: tensor([0.9295, 0.9486, 0.8727, 0.5686, 0.5670, 0.5375, 0.8573, 0.9761, 0.8592])\n",
      "\n",
      "Symmetry 2:\n",
      "State:\n",
      " tensor([[[[0., 0., 0.],\n",
      "          [0., 0., 0.],\n",
      "          [0., 0., 0.]],\n",
      "\n",
      "         [[0., 0., 0.],\n",
      "          [0., 0., 0.],\n",
      "          [0., 0., 0.]],\n",
      "\n",
      "         [[1., 1., 1.],\n",
      "          [1., 1., 1.],\n",
      "          [1., 1., 1.]]]])\n",
      "Policy: tensor([0.8727, 0.9486, 0.9295, 0.5375, 0.5670, 0.5686, 0.8592, 0.9761, 0.8573])\n",
      "\n",
      "Symmetry 3:\n",
      "State:\n",
      " tensor([[[[0., 0., 0.],\n",
      "          [0., 0., 0.],\n",
      "          [0., 0., 0.]],\n",
      "\n",
      "         [[0., 0., 0.],\n",
      "          [0., 0., 0.],\n",
      "          [0., 0., 0.]],\n",
      "\n",
      "         [[1., 1., 1.],\n",
      "          [1., 1., 1.],\n",
      "          [1., 1., 1.]]]])\n",
      "Policy: tensor([0.8727, 0.5375, 0.8592, 0.9486, 0.5670, 0.9761, 0.9295, 0.5686, 0.8573])\n",
      "\n",
      "Symmetry 4:\n",
      "State:\n",
      " tensor([[[[0., 0., 0.],\n",
      "          [0., 0., 0.],\n",
      "          [0., 0., 0.]],\n",
      "\n",
      "         [[0., 0., 0.],\n",
      "          [0., 0., 0.],\n",
      "          [0., 0., 0.]],\n",
      "\n",
      "         [[1., 1., 1.],\n",
      "          [1., 1., 1.],\n",
      "          [1., 1., 1.]]]])\n",
      "Policy: tensor([0.8592, 0.5375, 0.8727, 0.9761, 0.5670, 0.9486, 0.8573, 0.5686, 0.9295])\n",
      "\n",
      "Symmetry 5:\n",
      "State:\n",
      " tensor([[[[0., 0., 0.],\n",
      "          [0., 0., 0.],\n",
      "          [0., 0., 0.]],\n",
      "\n",
      "         [[0., 0., 0.],\n",
      "          [0., 0., 0.],\n",
      "          [0., 0., 0.]],\n",
      "\n",
      "         [[1., 1., 1.],\n",
      "          [1., 1., 1.],\n",
      "          [1., 1., 1.]]]])\n",
      "Policy: tensor([0.8592, 0.9761, 0.8573, 0.5375, 0.5670, 0.5686, 0.8727, 0.9486, 0.9295])\n",
      "\n",
      "Symmetry 6:\n",
      "State:\n",
      " tensor([[[[0., 0., 0.],\n",
      "          [0., 0., 0.],\n",
      "          [0., 0., 0.]],\n",
      "\n",
      "         [[0., 0., 0.],\n",
      "          [0., 0., 0.],\n",
      "          [0., 0., 0.]],\n",
      "\n",
      "         [[1., 1., 1.],\n",
      "          [1., 1., 1.],\n",
      "          [1., 1., 1.]]]])\n",
      "Policy: tensor([0.8573, 0.9761, 0.8592, 0.5686, 0.5670, 0.5375, 0.9295, 0.9486, 0.8727])\n",
      "\n",
      "Symmetry 7:\n",
      "State:\n",
      " tensor([[[[0., 0., 0.],\n",
      "          [0., 0., 0.],\n",
      "          [0., 0., 0.]],\n",
      "\n",
      "         [[0., 0., 0.],\n",
      "          [0., 0., 0.],\n",
      "          [0., 0., 0.]],\n",
      "\n",
      "         [[1., 1., 1.],\n",
      "          [1., 1., 1.],\n",
      "          [1., 1., 1.]]]])\n",
      "Policy: tensor([0.8573, 0.5686, 0.9295, 0.9761, 0.5670, 0.9486, 0.8592, 0.5375, 0.8727])\n",
      "\n",
      "Symmetry 8:\n",
      "State:\n",
      " tensor([[[[0., 0., 0.],\n",
      "          [0., 0., 0.],\n",
      "          [0., 0., 0.]],\n",
      "\n",
      "         [[0., 0., 0.],\n",
      "          [0., 0., 0.],\n",
      "          [0., 0., 0.]],\n",
      "\n",
      "         [[1., 1., 1.],\n",
      "          [1., 1., 1.],\n",
      "          [1., 1., 1.]]]])\n",
      "Policy: tensor([0.9295, 0.5686, 0.8573, 0.9486, 0.5670, 0.9761, 0.8727, 0.5375, 0.8592])\n",
      "\n"
     ]
    }
   ],
   "source": [
    "import torch\n",
    "\n",
    "game = TicTacToe()\n",
    "policy = torch.rand(9)  # Example policy\n",
    "sym_pairs = game.symmetries(policy)\n",
    "\n",
    "for i, (s, p) in enumerate(sym_pairs):\n",
    "    print(f\"Symmetry {i+1}:\")\n",
    "    print(\"State:\\n\", s)\n",
    "    print(\"Policy:\", p)\n",
    "    print()"
   ]
  },
  {
   "cell_type": "code",
   "execution_count": 1,
   "id": "edcb9a45",
   "metadata": {},
   "outputs": [
    {
     "name": "stdout",
     "output_type": "stream",
     "text": [
      "----- Self-play generation started -----\n",
      "[SelfPlayManager] Collecting 100 games with 4 workers...\n"
     ]
    },
    {
     "name": "stderr",
     "output_type": "stream",
     "text": [
      "Self-play: 100%|██████████████████████████████| 100/100 [00:01<00:00, 79.34it/s]\n"
     ]
    },
    {
     "name": "stdout",
     "output_type": "stream",
     "text": [
      "[SelfPlayManager] Collected 100 games.\n",
      "\n",
      "----- Training started -----\n",
      "[Trainer] Training started...\n"
     ]
    },
    {
     "name": "stderr",
     "output_type": "stream",
     "text": [
      "Epochs: 100%|███████████████████████████████████| 10/10 [00:00<00:00, 11.61it/s]\n"
     ]
    },
    {
     "name": "stdout",
     "output_type": "stream",
     "text": [
      "[Trainer] Training finished. Loss: 0.0856, Policy Loss: 0.0828, Value Loss: 0.0028\n",
      "\n",
      "----- Model evaluation and promotion started -----\n"
     ]
    },
    {
     "name": "stderr",
     "output_type": "stream",
     "text": [
      "Evaluating: 100%|██████████| 20/20 [00:00<00:00, 22.13it/s]"
     ]
    },
    {
     "name": "stdout",
     "output_type": "stream",
     "text": [
      "[Evaluator]: Candidate Win Rate: 50.00% (W:10 L:10 D:0)\n",
      "[Promoter]: ❌ Candidate rejected (win rate: 50.00%)\n",
      "\n",
      "----- Evaluation complete -----\n",
      "[Summary] Win rate: 50.00% | Metrics: {'wins': 10, 'losses': 10, 'draws': 0, 'total': 20}\n"
     ]
    },
    {
     "name": "stderr",
     "output_type": "stream",
     "text": [
      "\n"
     ]
    }
   ],
   "source": [
    "from self_play import SelfPlayManager\n",
    "from games import TicTacToe\n",
    "from net import TicTacToeNet\n",
    "from trainer import NeuralNetworkTrainer\n",
    "\n",
    "net = TicTacToeNet()\n",
    "trainer = NeuralNetworkTrainer(net)\n",
    "\n",
    "print(\"----- Self-play generation started -----\")\n",
    "self_play_manager = SelfPlayManager(net, TicTacToe)\n",
    "data = self_play_manager.generate_self_play(num_games=100, num_workers=4)\n",
    "\n",
    "print()\n",
    "print(\"----- Training started -----\")\n",
    "trainer.train(data, epochs=10)\n",
    "\n",
    "print()\n",
    "\n",
    "from promoter import ModelPromoter\n",
    "from evaluator import ModelEvaluator\n",
    "\n",
    "print(\"----- Model evaluation and promotion started -----\")\n",
    "evaluator = ModelEvaluator(game_class=TicTacToe, mcts_params={\"num_simulations\": 50})\n",
    "promoter = ModelPromoter(model_dir=\"models\", evaluator=evaluator, net_class=TicTacToeNet)\n",
    "NUM_SELF_PLAY_GAMES = 100\n",
    "\n",
    "best_net = promoter.get_best_model()\n",
    "win_rate, metrics = promoter.evaluate_and_maybe_promote(net, metadata={\"episode\": 0})\n",
    "\n",
    "print()\n",
    "print(\"----- Evaluation complete -----\")\n",
    "# Optional: Print summary\n",
    "print(f\"[Summary] Win rate: {win_rate:.2%} | Metrics: {metrics}\")"
   ]
  },
  {
   "cell_type": "code",
   "execution_count": null,
   "id": "8b5bb986",
   "metadata": {},
   "outputs": [],
   "source": []
  }
 ],
 "metadata": {
  "kernelspec": {
   "display_name": ".venv",
   "language": "python",
   "name": "python3"
  },
  "language_info": {
   "codemirror_mode": {
    "name": "ipython",
    "version": 3
   },
   "file_extension": ".py",
   "mimetype": "text/x-python",
   "name": "python",
   "nbconvert_exporter": "python",
   "pygments_lexer": "ipython3",
   "version": "3.11.6"
  }
 },
 "nbformat": 4,
 "nbformat_minor": 5
}
