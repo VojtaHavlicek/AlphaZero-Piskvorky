{
 "cells": [
  {
   "cell_type": "code",
   "execution_count": 1,
   "id": "edcb9a45",
   "metadata": {},
   "outputs": [
    {
     "name": "stdout",
     "output_type": "stream",
     "text": [
      "----- Self-play generation started -----\n",
      "[SelfPlayManager] Collecting 100 games with 8 workers...\n"
     ]
    },
    {
     "name": "stderr",
     "output_type": "stream",
     "text": [
      "[SelfPlayManager] Self-play: 100%|████████████| 100/100 [00:02<00:00, 38.25it/s]\n"
     ]
    },
    {
     "name": "stdout",
     "output_type": "stream",
     "text": [
      "[SelfPlayManager] Collected 100 games.\n"
     ]
    }
   ],
   "source": [
    "from games import Gomoku\n",
    "from net import GomokuNet\n",
    "from self_play import SelfPlayManager\n",
    "from trainer import NeuralNetworkTrainer\n",
    "\n",
    "net = GomokuNet()\n",
    "trainer = NeuralNetworkTrainer(net, device=\"cpu\")\n",
    "\n",
    "print(\"----- Self-play generation started -----\")\n",
    "self_play_manager = SelfPlayManager(net, Gomoku)\n",
    "data = self_play_manager.generate_self_play(num_games=100, num_workers=8)"
   ]
  },
  {
   "cell_type": "code",
   "execution_count": 2,
   "id": "5c4d4468",
   "metadata": {},
   "outputs": [
    {
     "name": "stdout",
     "output_type": "stream",
     "text": [
      "----- Training started -----\n",
      "[Trainer] Training started...\n"
     ]
    },
    {
     "name": "stderr",
     "output_type": "stream",
     "text": [
      "[Trainer] Epochs:  50%|█████████████             | 5/10 [00:01<00:01,  2.62it/s]"
     ]
    },
    {
     "name": "stdout",
     "output_type": "stream",
     "text": [
      "Epoch 5: Total=7.1742, Policy=7.1357, Value=0.0386\n"
     ]
    },
    {
     "name": "stderr",
     "output_type": "stream",
     "text": [
      "[Trainer] Epochs: 100%|█████████████████████████| 10/10 [00:03<00:00,  2.53it/s]"
     ]
    },
    {
     "name": "stdout",
     "output_type": "stream",
     "text": [
      "Epoch 10: Total=4.7441, Policy=4.7292, Value=0.0149\n",
      "[Trainer] Training finished. Loss: 4.7441, Policy Loss: 4.7292, Value Loss: 0.0149\n"
     ]
    },
    {
     "name": "stderr",
     "output_type": "stream",
     "text": [
      "\n"
     ]
    }
   ],
   "source": [
    "import copy\n",
    "\n",
    "previous_net = copy.deepcopy(net)\n",
    "\n",
    "print(\"----- Training started -----\")\n",
    "trainer.train(data, epochs=10)\n",
    "\n",
    "#print(\"Did we learn?\", net != previous_net)"
   ]
  },
  {
   "cell_type": "code",
   "execution_count": null,
   "id": "ad2f5c6f",
   "metadata": {},
   "outputs": [
    {
     "name": "stdout",
     "output_type": "stream",
     "text": [
      "----- Model evaluation and promotion started -----\n",
      "[Promoter] Looking for the best model in models...\n",
      "[Promoter] Choosen a randomly initialized model.\n",
      "[Promoter] Looking for the best model in models...\n",
      "[Promoter] Choosen a randomly initialized model.\n"
     ]
    },
    {
     "name": "stderr",
     "output_type": "stream",
     "text": [
      "[Evaluator] Evaluating:   0%|                            | 0/20 [00:00<?, ?it/s]\n"
     ]
    },
    {
     "ename": "AttributeError",
     "evalue": "'tuple' object has no attribute 'run'",
     "output_type": "error",
     "traceback": [
      "\u001b[31m---------------------------------------------------------------------------\u001b[39m",
      "\u001b[31mAttributeError\u001b[39m                            Traceback (most recent call last)",
      "\u001b[36mCell\u001b[39m\u001b[36m \u001b[39m\u001b[32mIn[4]\u001b[39m\u001b[32m, line 11\u001b[39m\n\u001b[32m      6\u001b[39m promoter = ModelPromoter(\n\u001b[32m      7\u001b[39m     model_dir=\u001b[33m\"\u001b[39m\u001b[33mmodels\u001b[39m\u001b[33m\"\u001b[39m, evaluator=evaluator, net_class=GomokuNet\n\u001b[32m      8\u001b[39m )\n\u001b[32m     10\u001b[39m best_net = promoter.get_best_model()\n\u001b[32m---> \u001b[39m\u001b[32m11\u001b[39m win_rate, metrics, _ = \u001b[43mpromoter\u001b[49m\u001b[43m.\u001b[49m\u001b[43mevaluate_and_maybe_promote\u001b[49m\u001b[43m(\u001b[49m\u001b[43mnet\u001b[49m\u001b[43m,\u001b[49m\u001b[43m \u001b[49m\u001b[43mmetadata\u001b[49m\u001b[43m=\u001b[49m\u001b[43m{\u001b[49m\u001b[33;43m\"\u001b[39;49m\u001b[33;43mepisode\u001b[39;49m\u001b[33;43m\"\u001b[39;49m\u001b[43m:\u001b[49m\u001b[43m \u001b[49m\u001b[32;43m0\u001b[39;49m\u001b[43m}\u001b[49m\u001b[43m,\u001b[49m\u001b[43m \u001b[49m\u001b[43mdebug\u001b[49m\u001b[43m=\u001b[49m\u001b[38;5;28;43;01mTrue\u001b[39;49;00m\u001b[43m)\u001b[49m\n\u001b[32m     13\u001b[39m \u001b[38;5;28mprint\u001b[39m()\n\u001b[32m     14\u001b[39m \u001b[38;5;28mprint\u001b[39m(\u001b[33m\"\u001b[39m\u001b[33m----- Evaluation complete -----\u001b[39m\u001b[33m\"\u001b[39m)\n",
      "\u001b[36mFile \u001b[39m\u001b[32m~/Documents/GitHub/strategy-ai/alphazero/promoter.py:41\u001b[39m, in \u001b[36mModelPromoter.evaluate_and_maybe_promote\u001b[39m\u001b[34m(self, candidate_net, num_games, metadata, debug)\u001b[39m\n\u001b[32m     37\u001b[39m \u001b[38;5;28;01mdef\u001b[39;00m\u001b[38;5;250m \u001b[39m\u001b[34mevaluate_and_maybe_promote\u001b[39m(\n\u001b[32m     38\u001b[39m     \u001b[38;5;28mself\u001b[39m, candidate_net, num_games=\u001b[32m20\u001b[39m, metadata=\u001b[38;5;28;01mNone\u001b[39;00m, debug=\u001b[38;5;28;01mFalse\u001b[39;00m\n\u001b[32m     39\u001b[39m ):\n\u001b[32m     40\u001b[39m     base_net = \u001b[38;5;28mself\u001b[39m.get_best_model()\n\u001b[32m---> \u001b[39m\u001b[32m41\u001b[39m     win_rate, metrics = \u001b[38;5;28;43mself\u001b[39;49m\u001b[43m.\u001b[49m\u001b[43mevaluator\u001b[49m\u001b[43m.\u001b[49m\u001b[43mevaluate\u001b[49m\u001b[43m(\u001b[49m\n\u001b[32m     42\u001b[39m \u001b[43m        \u001b[49m\u001b[43mcandidate_net\u001b[49m\u001b[43m,\u001b[49m\u001b[43m \u001b[49m\u001b[43mbase_net\u001b[49m\u001b[43m,\u001b[49m\u001b[43m \u001b[49m\u001b[43mnum_games\u001b[49m\u001b[43m=\u001b[49m\u001b[43mnum_games\u001b[49m\u001b[43m,\u001b[49m\u001b[43m \u001b[49m\u001b[43mdebug\u001b[49m\u001b[43m=\u001b[49m\u001b[43mdebug\u001b[49m\n\u001b[32m     43\u001b[39m \u001b[43m    \u001b[49m\u001b[43m)\u001b[49m\n\u001b[32m     45\u001b[39m     was_promoted = \u001b[38;5;28;01mFalse\u001b[39;00m\n\u001b[32m     47\u001b[39m     \u001b[38;5;28;01mif\u001b[39;00m win_rate > \u001b[38;5;28mself\u001b[39m.threshold:\n",
      "\u001b[36mFile \u001b[39m\u001b[32m~/Documents/GitHub/strategy-ai/alphazero/evaluator.py:53\u001b[39m, in \u001b[36mModelEvaluator.evaluate\u001b[39m\u001b[34m(self, candidate_net, baseline_net, num_games, debug)\u001b[39m\n\u001b[32m     51\u001b[39m \u001b[38;5;28;01melse\u001b[39;00m: \n\u001b[32m     52\u001b[39m     mcts = mcts_baseline\n\u001b[32m---> \u001b[39m\u001b[32m53\u001b[39m _, action = \u001b[43mmcts\u001b[49m\u001b[43m.\u001b[49m\u001b[43mrun\u001b[49m(game, temperature=\u001b[32m0\u001b[39m)\n\u001b[32m     55\u001b[39m \u001b[38;5;66;03m# if debug:\u001b[39;00m\n\u001b[32m     56\u001b[39m \u001b[38;5;66;03m#    print(\u001b[39;00m\n\u001b[32m     57\u001b[39m \u001b[38;5;66;03m#        f\"[Debug] Player {game.current_player} selects action: {action}\"\u001b[39;00m\n\u001b[32m     58\u001b[39m \u001b[38;5;66;03m#    )\u001b[39;00m\n\u001b[32m     59\u001b[39m \u001b[38;5;66;03m#    print(f\"[Debug] Policy: {policy.cpu().numpy().round(3)}\")\u001b[39;00m\n\u001b[32m     60\u001b[39m \u001b[38;5;66;03m#    print(f\"[Debug] State after action {action}:\\n{game}\\n------\")\u001b[39;00m\n\u001b[32m     62\u001b[39m move_sequence.append(action)\n",
      "\u001b[31mAttributeError\u001b[39m: 'tuple' object has no attribute 'run'"
     ]
    }
   ],
   "source": [
    "from evaluator import ModelEvaluator\n",
    "from promoter import ModelPromoter\n",
    "\n",
    "print(\"----- Model evaluation and promotion started -----\")\n",
    "evaluator = ModelEvaluator(game_class=Gomoku, mcts_params={\"num_simulations\": 25})\n",
    "promoter = ModelPromoter(\n",
    "    model_dir=\"models\", evaluator=evaluator, net_class=GomokuNet\n",
    ")\n",
    "\n",
    "best_net = promoter.get_best_model()\n",
    "win_rate, metrics, _ = promoter.evaluate_and_maybe_promote(net, metadata={\"episode\": 0}, debug=True)\n",
    "\n",
    "print()\n",
    "print(\"----- Evaluation complete -----\")\n",
    "# Optional: Print summary\n",
    "print(f\"[Summary] Win rate: {win_rate:.2%} | Metrics: {metrics}\")"
   ]
  },
  {
   "cell_type": "code",
   "execution_count": 11,
   "id": "4c0df66d",
   "metadata": {},
   "outputs": [],
   "source": [
    "from main import human_vs_ai"
   ]
  },
  {
   "cell_type": "code",
   "execution_count": 12,
   "id": "8b5bb986",
   "metadata": {},
   "outputs": [
    {
     "name": "stdout",
     "output_type": "stream",
     "text": [
      "You are playing <class 'games.Gomoku'>\n"
     ]
    },
    {
     "ename": "NameError",
     "evalue": "name 'print_board' is not defined",
     "output_type": "error",
     "traceback": [
      "\u001b[31m---------------------------------------------------------------------------\u001b[39m",
      "\u001b[31mNameError\u001b[39m                                 Traceback (most recent call last)",
      "\u001b[36mCell\u001b[39m\u001b[36m \u001b[39m\u001b[32mIn[12]\u001b[39m\u001b[32m, line 1\u001b[39m\n\u001b[32m----> \u001b[39m\u001b[32m1\u001b[39m \u001b[43mhuman_vs_ai\u001b[49m\u001b[43m(\u001b[49m\u001b[43mmodel\u001b[49m\u001b[43m=\u001b[49m\u001b[43mnet\u001b[49m\u001b[43m)\u001b[49m\n",
      "\u001b[36mFile \u001b[39m\u001b[32m~/Documents/GitHub/strategy-ai/alphazero/main.py:51\u001b[39m, in \u001b[36mhuman_vs_ai\u001b[39m\u001b[34m(model_path, model)\u001b[39m\n\u001b[32m     48\u001b[39m \u001b[38;5;28mprint\u001b[39m(\u001b[33mf\u001b[39m\u001b[33m\"\u001b[39m\u001b[33mYou are playing \u001b[39m\u001b[38;5;132;01m{\u001b[39;00mGAME_CLASS\u001b[38;5;132;01m}\u001b[39;00m\u001b[33m\"\u001b[39m)\n\u001b[32m     50\u001b[39m \u001b[38;5;28;01mwhile\u001b[39;00m \u001b[38;5;129;01mnot\u001b[39;00m game.is_terminal():\n\u001b[32m---> \u001b[39m\u001b[32m51\u001b[39m     \u001b[43mprint_board\u001b[49m(game)\n\u001b[32m     53\u001b[39m     \u001b[38;5;28;01mif\u001b[39;00m game.current_player == \u001b[32m1\u001b[39m:\n\u001b[32m     54\u001b[39m         move = \u001b[38;5;28minput\u001b[39m(\u001b[33m\"\u001b[39m\u001b[33mYour move (row col): \u001b[39m\u001b[33m\"\u001b[39m)\n",
      "\u001b[31mNameError\u001b[39m: name 'print_board' is not defined"
     ]
    }
   ],
   "source": [
    "human_vs_ai(model=net)"
   ]
  },
  {
   "cell_type": "code",
   "execution_count": null,
   "id": "8ca7d832",
   "metadata": {},
   "outputs": [],
   "source": []
  }
 ],
 "metadata": {
  "kernelspec": {
   "display_name": ".venv",
   "language": "python",
   "name": "python3"
  },
  "language_info": {
   "codemirror_mode": {
    "name": "ipython",
    "version": 3
   },
   "file_extension": ".py",
   "mimetype": "text/x-python",
   "name": "python",
   "nbconvert_exporter": "python",
   "pygments_lexer": "ipython3",
   "version": "3.11.6"
  }
 },
 "nbformat": 4,
 "nbformat_minor": 5
}
