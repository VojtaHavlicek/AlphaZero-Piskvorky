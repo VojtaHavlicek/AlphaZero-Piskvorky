{
 "cells": [
  {
   "cell_type": "code",
   "execution_count": 1,
   "id": "edcb9a45",
   "metadata": {},
   "outputs": [
    {
     "name": "stdout",
     "output_type": "stream",
     "text": [
      "----- Self-play generation started -----\n",
      "[SelfPlayManager] Collecting 100 games with 8 workers...\n"
     ]
    },
    {
     "name": "stderr",
     "output_type": "stream",
     "text": [
      "[SelfPlayManager] Self-play: 100%|████████████| 100/100 [00:04<00:00, 21.20it/s]\n"
     ]
    },
    {
     "name": "stdout",
     "output_type": "stream",
     "text": [
      "[SelfPlayManager] Collected 100 games.\n"
     ]
    }
   ],
   "source": [
    "from games import Gomoku\n",
    "from net import GomokuNet\n",
    "from self_play import SelfPlayManager\n",
    "from trainer import NeuralNetworkTrainer\n",
    "\n",
    "net = GomokuNet()\n",
    "trainer = NeuralNetworkTrainer(net, device=\"cpu\")\n",
    "\n",
    "print(\"----- Self-play generation started -----\")\n",
    "self_play_manager = SelfPlayManager(net, Gomoku)\n",
    "data = self_play_manager.generate_self_play(num_games=100, num_workers=8)"
   ]
  },
  {
   "cell_type": "code",
   "execution_count": 2,
   "id": "5c4d4468",
   "metadata": {},
   "outputs": [
    {
     "name": "stdout",
     "output_type": "stream",
     "text": [
      "----- Training started -----\n",
      "[Trainer] Training started...\n"
     ]
    },
    {
     "name": "stderr",
     "output_type": "stream",
     "text": [
      "[Trainer] Epochs:  50%|█████████████             | 5/10 [00:03<00:03,  1.36it/s]"
     ]
    },
    {
     "name": "stdout",
     "output_type": "stream",
     "text": [
      "Epoch 5: Total=83.8516, Policy=76.9145, Value=6.9372\n"
     ]
    },
    {
     "name": "stderr",
     "output_type": "stream",
     "text": [
      "[Trainer] Epochs: 100%|█████████████████████████| 10/10 [00:07<00:00,  1.37it/s]"
     ]
    },
    {
     "name": "stdout",
     "output_type": "stream",
     "text": [
      "Epoch 10: Total=77.2625, Policy=72.9401, Value=4.3224\n",
      "[Trainer] Training finished. Loss: 77.2625, Policy Loss: 72.9401, Value Loss: 4.3224\n"
     ]
    },
    {
     "name": "stderr",
     "output_type": "stream",
     "text": [
      "\n"
     ]
    }
   ],
   "source": [
    "import copy\n",
    "\n",
    "previous_net = copy.deepcopy(net)\n",
    "\n",
    "print(\"----- Training started -----\")\n",
    "trainer.train(data, epochs=10)\n",
    "\n",
    "#print(\"Did we learn?\", net != previous_net)"
   ]
  },
  {
   "cell_type": "code",
   "execution_count": 3,
   "id": "ad2f5c6f",
   "metadata": {},
   "outputs": [
    {
     "name": "stdout",
     "output_type": "stream",
     "text": [
      "----- Model evaluation and promotion started -----\n",
      "[Promoter] Choosen models/model_20250724_190951.pt for evaluation.\n",
      "[Promoter] Choosen models/model_20250724_190951.pt for evaluation.\n"
     ]
    },
    {
     "name": "stderr",
     "output_type": "stream",
     "text": [
      "[Evaluator] Evaluating:   0%|                            | 0/20 [00:00<?, ?it/s]"
     ]
    },
    {
     "name": "stderr",
     "output_type": "stream",
     "text": [
      "[Evaluator] Evaluating:   5%|█                   | 1/20 [00:00<00:05,  3.21it/s]"
     ]
    },
    {
     "name": "stdout",
     "output_type": "stream",
     "text": [
      "Gomoku(\n",
      "  |   |   | X | X\n",
      "O |   | O | X | O\n",
      "  |   | X |   |  \n",
      "  | X | O |   |  \n",
      "X | O |   |   |  \n",
      ")\n"
     ]
    },
    {
     "name": "stderr",
     "output_type": "stream",
     "text": [
      "[Evaluator] Evaluating:  10%|██                  | 2/20 [00:00<00:06,  2.66it/s]"
     ]
    },
    {
     "name": "stdout",
     "output_type": "stream",
     "text": [
      "Gomoku(\n",
      "O | X | O | X |  \n",
      "  | O | X | O | X\n",
      "X | X |   | O |  \n",
      "O | X | O | O | X\n",
      "X | X |   | O | O\n",
      ")\n"
     ]
    },
    {
     "name": "stderr",
     "output_type": "stream",
     "text": [
      "[Evaluator] Evaluating:  15%|███                 | 3/20 [00:01<00:06,  2.55it/s]"
     ]
    },
    {
     "name": "stdout",
     "output_type": "stream",
     "text": [
      "Gomoku(\n",
      "X |   |   | X | X\n",
      "X | X | O | O | O\n",
      "O | X | O |   | O\n",
      "  | X | X |   |  \n",
      "O |   |   | X | O\n",
      ")\n"
     ]
    },
    {
     "name": "stderr",
     "output_type": "stream",
     "text": [
      "[Evaluator] Evaluating:  20%|████                | 4/20 [00:01<00:05,  2.89it/s]"
     ]
    },
    {
     "name": "stdout",
     "output_type": "stream",
     "text": [
      "Gomoku(\n",
      "X | O | O | O | X\n",
      "  |   |   | O |  \n",
      "X |   | O | X | X\n",
      "X | O |   |   |  \n",
      "O |   |   |   | X\n",
      ")\n"
     ]
    },
    {
     "name": "stderr",
     "output_type": "stream",
     "text": [
      "[Evaluator] Evaluating:  25%|█████               | 5/20 [00:01<00:04,  3.35it/s]"
     ]
    },
    {
     "name": "stdout",
     "output_type": "stream",
     "text": [
      "Gomoku(\n",
      "O | X | X | X | X\n",
      "O | O | O |   |  \n",
      "X |   |   |   |  \n",
      "  |   | O |   |  \n",
      "  |   |   |   | X\n",
      ")\n"
     ]
    },
    {
     "name": "stderr",
     "output_type": "stream",
     "text": [
      "[Evaluator] Evaluating:  30%|██████              | 6/20 [00:01<00:04,  3.37it/s]"
     ]
    },
    {
     "name": "stdout",
     "output_type": "stream",
     "text": [
      "Gomoku(\n",
      "  | X |   |   |  \n",
      "X |   | X | O | O\n",
      "X |   |   | O |  \n",
      "O |   | X | O | X\n",
      "  |   |   | O |  \n",
      ")\n"
     ]
    },
    {
     "name": "stderr",
     "output_type": "stream",
     "text": [
      "[Evaluator] Evaluating:  40%|████████            | 8/20 [00:02<00:03,  3.11it/s]"
     ]
    },
    {
     "name": "stdout",
     "output_type": "stream",
     "text": [
      "Gomoku(\n",
      "O | X | X | X | X\n",
      "X | X |   | O | X\n",
      "O | O | X | O | X\n",
      "O | O | X | O | O\n",
      "O | X |   | X | O\n",
      ")\n",
      "Gomoku(\n",
      "  |   | O |   |  \n",
      "O | O |   | X |  \n",
      "  |   |   |   |  \n",
      "  | X | X | X | X\n",
      "O |   |   |   |  \n",
      ")\n"
     ]
    },
    {
     "name": "stderr",
     "output_type": "stream",
     "text": [
      "[Evaluator] Evaluating:  45%|█████████           | 9/20 [00:03<00:03,  3.09it/s]"
     ]
    },
    {
     "name": "stdout",
     "output_type": "stream",
     "text": [
      "Gomoku(\n",
      "  |   | X |   |  \n",
      "O | O | O | X |  \n",
      "  |   |   | X |  \n",
      "O | O | X | X | O\n",
      "  |   | X | X |  \n",
      ")\n"
     ]
    },
    {
     "name": "stderr",
     "output_type": "stream",
     "text": [
      "[Evaluator] Evaluating:  50%|█████████▌         | 10/20 [00:03<00:03,  2.95it/s]"
     ]
    },
    {
     "name": "stdout",
     "output_type": "stream",
     "text": [
      "Gomoku(\n",
      "X | X | O | X |  \n",
      "X |   | O | O | O\n",
      "  |   | X | O | O\n",
      "  | X | X | X | O\n",
      "O |   |   | X | O\n",
      ")\n"
     ]
    },
    {
     "name": "stderr",
     "output_type": "stream",
     "text": [
      "[Evaluator] Evaluating:  55%|██████████▍        | 11/20 [00:03<00:02,  3.06it/s]"
     ]
    },
    {
     "name": "stdout",
     "output_type": "stream",
     "text": [
      "Gomoku(\n",
      "O | X | X | O | X\n",
      "X | X | X | O |  \n",
      "  | X |   |   |  \n",
      "O | X |   |   |  \n",
      "  | O | O |   | O\n",
      ")\n"
     ]
    },
    {
     "name": "stderr",
     "output_type": "stream",
     "text": [
      "[Evaluator] Evaluating:  60%|███████████▍       | 12/20 [00:04<00:03,  2.61it/s]"
     ]
    },
    {
     "name": "stdout",
     "output_type": "stream",
     "text": [
      "Gomoku(\n",
      "O | O | X | X | X\n",
      "X | O | O | X | X\n",
      "X | O | X |   | O\n",
      "O | O | X | X |  \n",
      "  | O | O |   |  \n",
      ")\n"
     ]
    },
    {
     "name": "stderr",
     "output_type": "stream",
     "text": [
      "[Evaluator] Evaluating:  65%|████████████▎      | 13/20 [00:04<00:02,  2.77it/s]"
     ]
    },
    {
     "name": "stdout",
     "output_type": "stream",
     "text": [
      "Gomoku(\n",
      "X |   |   |   |  \n",
      "  | O |   |   | O\n",
      "X | O | X | O | X\n",
      "X | O |   | O | O\n",
      "X | O |   | X | X\n",
      ")\n"
     ]
    },
    {
     "name": "stderr",
     "output_type": "stream",
     "text": [
      "[Evaluator] Evaluating:  70%|█████████████▎     | 14/20 [00:04<00:02,  2.95it/s]"
     ]
    },
    {
     "name": "stdout",
     "output_type": "stream",
     "text": [
      "Gomoku(\n",
      "  | X |   |   | X\n",
      "O | O | O | O |  \n",
      "  |   |   | O |  \n",
      "O |   | X | X |  \n",
      "  |   |   | X | X\n",
      ")\n"
     ]
    },
    {
     "name": "stderr",
     "output_type": "stream",
     "text": [
      "[Evaluator] Evaluating:  75%|██████████████▎    | 15/20 [00:05<00:01,  2.52it/s]"
     ]
    },
    {
     "name": "stdout",
     "output_type": "stream",
     "text": [
      "Gomoku(\n",
      "X | O | O | O | X\n",
      "X | X | O | X | X\n",
      "O | X | O | X | X\n",
      "X | O | O | O |  \n",
      "X | O | O | O | X\n",
      ")\n"
     ]
    },
    {
     "name": "stderr",
     "output_type": "stream",
     "text": [
      "[Evaluator] Evaluating:  80%|███████████████▏   | 16/20 [00:05<00:01,  2.33it/s]"
     ]
    },
    {
     "name": "stdout",
     "output_type": "stream",
     "text": [
      "Gomoku(\n",
      "O | X |   |   | O\n",
      "X | X | X |   | O\n",
      "O | O | O | O | X\n",
      "X | X | O | O | O\n",
      "X | X |   |   | X\n",
      ")\n"
     ]
    },
    {
     "name": "stderr",
     "output_type": "stream",
     "text": [
      "[Evaluator] Evaluating:  85%|████████████████▏  | 17/20 [00:06<00:01,  2.50it/s]"
     ]
    },
    {
     "name": "stdout",
     "output_type": "stream",
     "text": [
      "Gomoku(\n",
      "O | O | X | O |  \n",
      "  | X | X | X | X\n",
      "X |   |   | O | O\n",
      "X |   |   |   |  \n",
      "  |   | O |   |  \n",
      ")\n"
     ]
    },
    {
     "name": "stderr",
     "output_type": "stream",
     "text": [
      "[Evaluator] Evaluating:  90%|█████████████████  | 18/20 [00:06<00:00,  2.26it/s]"
     ]
    },
    {
     "name": "stdout",
     "output_type": "stream",
     "text": [
      "Gomoku(\n",
      "O | O | X | O | X\n",
      "O | X | O |   | O\n",
      "X | X | O | X | X\n",
      "X | X | X | O |  \n",
      "O | X | X | O | O\n",
      ")\n"
     ]
    },
    {
     "name": "stderr",
     "output_type": "stream",
     "text": [
      "[Evaluator] Evaluating:  95%|██████████████████ | 19/20 [00:07<00:00,  2.21it/s]"
     ]
    },
    {
     "name": "stdout",
     "output_type": "stream",
     "text": [
      "Gomoku(\n",
      "O | O |   | O | X\n",
      "X |   | O | O | X\n",
      "O | X | X |   |  \n",
      "X | O | X | X |  \n",
      "X |   | O | X | O\n",
      ")\n"
     ]
    },
    {
     "name": "stderr",
     "output_type": "stream",
     "text": [
      "[Evaluator] Evaluating: 100%|███████████████████| 20/20 [00:07<00:00,  2.66it/s]"
     ]
    },
    {
     "name": "stdout",
     "output_type": "stream",
     "text": [
      "Gomoku(\n",
      "X |   | X |   | X\n",
      "X |   |   |   | O\n",
      "  | O | X | X | O\n",
      "X |   | O |   | O\n",
      "O |   |   |   | O\n",
      ")\n",
      "[Evaluator]: Candidate Win Rate: 80.00% (W:16 L:4 D:0)\n",
      "[Promoter]: ✅ Promoted new model with win rate 80.00%: models/model_20250724_190951.pt → models/model_20250724_191120.pt\n",
      "Metadata: {'episode': 0}\n",
      "\n",
      "----- Evaluation complete -----\n",
      "[Summary] Win rate: 80.00% | Metrics: {'wins': 16, 'losses': 4, 'draws': 0, 'total': 20, 'win_rate': 0.8}\n"
     ]
    },
    {
     "name": "stderr",
     "output_type": "stream",
     "text": [
      "\n"
     ]
    }
   ],
   "source": [
    "from evaluator import ModelEvaluator\n",
    "from promoter import ModelPromoter\n",
    "\n",
    "print(\"----- Model evaluation and promotion started -----\")\n",
    "evaluator = ModelEvaluator(game_class=Gomoku, mcts_params={\"num_simulations\": 100})\n",
    "promoter = ModelPromoter(\n",
    "    model_dir=\"models\", evaluator=evaluator, net_class=GomokuNet\n",
    ")\n",
    "\n",
    "best_net = promoter.get_best_model()\n",
    "win_rate, metrics, _ = promoter.evaluate_and_maybe_promote(net, metadata={\"episode\": 0}, debug=True)\n",
    "\n",
    "print()\n",
    "print(\"----- Evaluation complete -----\")\n",
    "# Optional: Print summary\n",
    "print(f\"[Summary] Win rate: {win_rate:.2%} | Metrics: {metrics}\")"
   ]
  },
  {
   "cell_type": "code",
   "execution_count": 6,
   "id": "4c0df66d",
   "metadata": {},
   "outputs": [],
   "source": [
    "from main import human_vs_ai"
   ]
  },
  {
   "cell_type": "code",
   "execution_count": 7,
   "id": "8b5bb986",
   "metadata": {},
   "outputs": [
    {
     "name": "stdout",
     "output_type": "stream",
     "text": [
      "You are playing <class 'games.Gomoku'>\n",
      "Gomoku(\n",
      "  |   |   |   |  \n",
      "  |   |   |   |  \n",
      "  |   |   |   |  \n",
      "  |   |   |   |  \n",
      "  |   |   |   |  \n",
      ")\n",
      "Gomoku(\n",
      "  |   |   |   |  \n",
      "  | X |   |   |  \n",
      "  |   |   |   |  \n",
      "  |   |   |   |  \n",
      "  |   |   |   |  \n",
      ")\n",
      "🤖 AI is thinking...\n",
      "🤖 AI plays: (0, 0)\n",
      "Gomoku(\n",
      "O |   |   |   |  \n",
      "  | X |   |   |  \n",
      "  |   |   |   |  \n",
      "  |   |   |   |  \n",
      "  |   |   |   |  \n",
      ")\n",
      "Gomoku(\n",
      "O | X |   |   |  \n",
      "  | X |   |   |  \n",
      "  |   |   |   |  \n",
      "  |   |   |   |  \n",
      "  |   |   |   |  \n",
      ")\n",
      "🤖 AI is thinking...\n",
      "🤖 AI plays: (3, 0)\n",
      "Gomoku(\n",
      "O | X |   |   |  \n",
      "  | X |   |   |  \n",
      "  |   |   |   |  \n",
      "O |   |   |   |  \n",
      "  |   |   |   |  \n",
      ")\n",
      "Gomoku(\n",
      "O | X |   |   |  \n",
      "  | X |   |   |  \n",
      "  | X |   |   |  \n",
      "O |   |   |   |  \n",
      "  |   |   |   |  \n",
      ")\n",
      "🤖 AI is thinking...\n",
      "🤖 AI plays: (1, 4)\n",
      "Gomoku(\n",
      "O | X |   |   |  \n",
      "  | X |   |   | O\n",
      "  | X |   |   |  \n",
      "O |   |   |   |  \n",
      "  |   |   |   |  \n",
      ")\n",
      "Gomoku(\n",
      "O | X |   |   |  \n",
      "  | X |   |   | O\n",
      "  | X | X |   |  \n",
      "O |   |   |   |  \n",
      "  |   |   |   |  \n",
      ")\n",
      "🤖 AI is thinking...\n",
      "🤖 AI plays: (4, 2)\n",
      "Gomoku(\n",
      "O | X |   |   |  \n",
      "  | X |   |   | O\n",
      "  | X | X |   |  \n",
      "O |   |   |   |  \n",
      "  |   | O |   |  \n",
      ")\n",
      "Gomoku(\n",
      "O | X |   |   |  \n",
      "  | X |   |   | O\n",
      "  | X | X |   |  \n",
      "O | X |   |   |  \n",
      "  |   | O |   |  \n",
      ")\n",
      "🎉 You win!\n"
     ]
    }
   ],
   "source": [
    "human_vs_ai(model=net)"
   ]
  },
  {
   "cell_type": "code",
   "execution_count": null,
   "id": "8ca7d832",
   "metadata": {},
   "outputs": [],
   "source": []
  }
 ],
 "metadata": {
  "kernelspec": {
   "display_name": ".venv",
   "language": "python",
   "name": "python3"
  },
  "language_info": {
   "codemirror_mode": {
    "name": "ipython",
    "version": 3
   },
   "file_extension": ".py",
   "mimetype": "text/x-python",
   "name": "python",
   "nbconvert_exporter": "python",
   "pygments_lexer": "ipython3",
   "version": "3.11.6"
  }
 },
 "nbformat": 4,
 "nbformat_minor": 5
}
