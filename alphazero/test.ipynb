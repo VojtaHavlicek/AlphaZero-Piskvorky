{
 "cells": [
  {
   "cell_type": "code",
   "execution_count": 1,
   "id": "edcb9a45",
   "metadata": {},
   "outputs": [
    {
     "name": "stdout",
     "output_type": "stream",
     "text": [
      "----- Self-play generation started -----\n",
      "[SelfPlayManager] Collecting 100 games with 8 workers...\n"
     ]
    },
    {
     "name": "stderr",
     "output_type": "stream",
     "text": [
      "[SelfPlayManager] Self-play: 100%|████████████| 100/100 [00:06<00:00, 16.40it/s]\n"
     ]
    },
    {
     "name": "stdout",
     "output_type": "stream",
     "text": [
      "[SelfPlayManager] Collected 100 games.\n"
     ]
    }
   ],
   "source": [
    "from games import Gomoku\n",
    "from net import GomokuNet\n",
    "from self_play import SelfPlayManager\n",
    "from trainer import NeuralNetworkTrainer\n",
    "\n",
    "net = GomokuNet()\n",
    "trainer = NeuralNetworkTrainer(net, device=\"cpu\")\n",
    "\n",
    "print(\"----- Self-play generation started -----\")\n",
    "self_play_manager = SelfPlayManager(net, Gomoku)\n",
    "data = self_play_manager.generate_self_play(num_games=100, num_workers=8)"
   ]
  },
  {
   "cell_type": "code",
   "execution_count": 2,
   "id": "5c4d4468",
   "metadata": {},
   "outputs": [
    {
     "name": "stdout",
     "output_type": "stream",
     "text": [
      "----- Training started -----\n",
      "[Trainer] Training started...\n"
     ]
    },
    {
     "name": "stderr",
     "output_type": "stream",
     "text": [
      "[Trainer] Epochs:  50%|█████████████             | 5/10 [00:04<00:04,  1.14it/s]"
     ]
    },
    {
     "name": "stdout",
     "output_type": "stream",
     "text": [
      "Epoch 5: Total=45.0931, Policy=18.5228, Value=26.5703\n"
     ]
    },
    {
     "name": "stderr",
     "output_type": "stream",
     "text": [
      "[Trainer] Epochs: 100%|█████████████████████████| 10/10 [00:08<00:00,  1.14it/s]"
     ]
    },
    {
     "name": "stdout",
     "output_type": "stream",
     "text": [
      "Epoch 10: Total=39.7236, Policy=13.2180, Value=26.5056\n",
      "[Trainer] Training finished. Loss: 39.7236, Policy Loss: 13.2180, Value Loss: 26.5056\n"
     ]
    },
    {
     "name": "stderr",
     "output_type": "stream",
     "text": [
      "\n"
     ]
    }
   ],
   "source": [
    "import copy\n",
    "\n",
    "previous_net = copy.deepcopy(net)\n",
    "\n",
    "print(\"----- Training started -----\")\n",
    "trainer.train(data, epochs=10)\n",
    "\n",
    "#print(\"Did we learn?\", net != previous_net)"
   ]
  },
  {
   "cell_type": "code",
   "execution_count": 8,
   "id": "ad2f5c6f",
   "metadata": {},
   "outputs": [
    {
     "name": "stdout",
     "output_type": "stream",
     "text": [
      "----- Model evaluation and promotion started -----\n"
     ]
    },
    {
     "name": "stderr",
     "output_type": "stream",
     "text": [
      "[Evaluator] Evaluating: 100%|███████████████████| 20/20 [00:01<00:00, 10.11it/s]"
     ]
    },
    {
     "name": "stdout",
     "output_type": "stream",
     "text": [
      "[Evaluator]: Candidate Win Rate: 55.00% (W:11 L:9 D:0)\n",
      "[Promoter]: ❌ Candidate rejected (win rate: 55.00%)\n",
      "\n",
      "----- Evaluation complete -----\n",
      "[Summary] Win rate: 55.00% | Metrics: {'wins': 11, 'losses': 9, 'draws': 0, 'total': 20, 'win_rate': 0.55}\n"
     ]
    },
    {
     "name": "stderr",
     "output_type": "stream",
     "text": [
      "\n"
     ]
    }
   ],
   "source": [
    "from evaluator import ModelEvaluator\n",
    "from promoter import ModelPromoter\n",
    "\n",
    "print(\"----- Model evaluation and promotion started -----\")\n",
    "evaluator = ModelEvaluator(game_class=Gomoku, mcts_params={\"num_simulations\": 25})\n",
    "promoter = ModelPromoter(\n",
    "    model_dir=\"models\", evaluator=evaluator, net_class=GomokuNet\n",
    ")\n",
    "\n",
    "best_net = promoter.get_best_model()\n",
    "win_rate, metrics = promoter.evaluate_and_maybe_promote(net, metadata={\"episode\": 0})\n",
    "\n",
    "print()\n",
    "print(\"----- Evaluation complete -----\")\n",
    "# Optional: Print summary\n",
    "print(f\"[Summary] Win rate: {win_rate:.2%} | Metrics: {metrics}\")"
   ]
  },
  {
   "cell_type": "code",
   "execution_count": 11,
   "id": "4c0df66d",
   "metadata": {},
   "outputs": [],
   "source": [
    "from main import human_vs_ai"
   ]
  },
  {
   "cell_type": "code",
   "execution_count": 12,
   "id": "8b5bb986",
   "metadata": {},
   "outputs": [
    {
     "name": "stdout",
     "output_type": "stream",
     "text": [
      "You are playing <class 'games.Gomoku'>\n"
     ]
    },
    {
     "ename": "NameError",
     "evalue": "name 'print_board' is not defined",
     "output_type": "error",
     "traceback": [
      "\u001b[31m---------------------------------------------------------------------------\u001b[39m",
      "\u001b[31mNameError\u001b[39m                                 Traceback (most recent call last)",
      "\u001b[36mCell\u001b[39m\u001b[36m \u001b[39m\u001b[32mIn[12]\u001b[39m\u001b[32m, line 1\u001b[39m\n\u001b[32m----> \u001b[39m\u001b[32m1\u001b[39m \u001b[43mhuman_vs_ai\u001b[49m\u001b[43m(\u001b[49m\u001b[43mmodel\u001b[49m\u001b[43m=\u001b[49m\u001b[43mnet\u001b[49m\u001b[43m)\u001b[49m\n",
      "\u001b[36mFile \u001b[39m\u001b[32m~/Documents/GitHub/strategy-ai/alphazero/main.py:51\u001b[39m, in \u001b[36mhuman_vs_ai\u001b[39m\u001b[34m(model_path, model)\u001b[39m\n\u001b[32m     48\u001b[39m \u001b[38;5;28mprint\u001b[39m(\u001b[33mf\u001b[39m\u001b[33m\"\u001b[39m\u001b[33mYou are playing \u001b[39m\u001b[38;5;132;01m{\u001b[39;00mGAME_CLASS\u001b[38;5;132;01m}\u001b[39;00m\u001b[33m\"\u001b[39m)\n\u001b[32m     50\u001b[39m \u001b[38;5;28;01mwhile\u001b[39;00m \u001b[38;5;129;01mnot\u001b[39;00m game.is_terminal():\n\u001b[32m---> \u001b[39m\u001b[32m51\u001b[39m     \u001b[43mprint_board\u001b[49m(game)\n\u001b[32m     53\u001b[39m     \u001b[38;5;28;01mif\u001b[39;00m game.current_player == \u001b[32m1\u001b[39m:\n\u001b[32m     54\u001b[39m         move = \u001b[38;5;28minput\u001b[39m(\u001b[33m\"\u001b[39m\u001b[33mYour move (row col): \u001b[39m\u001b[33m\"\u001b[39m)\n",
      "\u001b[31mNameError\u001b[39m: name 'print_board' is not defined"
     ]
    }
   ],
   "source": [
    "human_vs_ai(model=net)"
   ]
  },
  {
   "cell_type": "code",
   "execution_count": null,
   "id": "8ca7d832",
   "metadata": {},
   "outputs": [],
   "source": []
  }
 ],
 "metadata": {
  "kernelspec": {
   "display_name": ".venv",
   "language": "python",
   "name": "python3"
  },
  "language_info": {
   "codemirror_mode": {
    "name": "ipython",
    "version": 3
   },
   "file_extension": ".py",
   "mimetype": "text/x-python",
   "name": "python",
   "nbconvert_exporter": "python",
   "pygments_lexer": "ipython3",
   "version": "3.11.6"
  }
 },
 "nbformat": 4,
 "nbformat_minor": 5
}
