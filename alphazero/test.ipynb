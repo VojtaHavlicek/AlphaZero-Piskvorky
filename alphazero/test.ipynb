{
 "cells": [
  {
   "cell_type": "code",
   "execution_count": 1,
   "id": "edcb9a45",
   "metadata": {},
   "outputs": [
    {
     "name": "stdout",
     "output_type": "stream",
     "text": [
      "----- Self-play generation started -----\n",
      "odict_keys(['conv.0.weight', 'conv.0.bias', 'conv.2.weight', 'conv.2.bias', 'fully_connected_policy.weight', 'fully_connected_policy.bias', 'fully_connected_value.weight', 'fully_connected_value.bias'])\n",
      "[SelfPlayManager] Collecting 100 games with 4 workers...\n"
     ]
    },
    {
     "name": "stderr",
     "output_type": "stream",
     "text": [
      "[SelfPlayManager] Self-play: 100%|████████████| 100/100 [00:02<00:00, 44.89it/s]"
     ]
    },
    {
     "name": "stdout",
     "output_type": "stream",
     "text": [
      "[SelfPlayManager] Collected 100 games.\n"
     ]
    },
    {
     "name": "stderr",
     "output_type": "stream",
     "text": [
      "\n"
     ]
    }
   ],
   "source": [
    "from self_play import SelfPlayManager\n",
    "from games import TicTacToe\n",
    "from net import TicTacToeNet\n",
    "from trainer import NeuralNetworkTrainer\n",
    "\n",
    "net = TicTacToeNet()\n",
    "trainer = NeuralNetworkTrainer(net, device='cpu')\n",
    "\n",
    "print(\"----- Self-play generation started -----\")\n",
    "self_play_manager = SelfPlayManager(net, TicTacToe)\n",
    "data = self_play_manager.generate_self_play(num_games=100, num_workers=4)\n"
   ]
  },
  {
   "cell_type": "code",
   "execution_count": 2,
   "id": "5c4d4468",
   "metadata": {},
   "outputs": [
    {
     "name": "stdout",
     "output_type": "stream",
     "text": [
      "\n",
      "----- Training started -----\n",
      "[Trainer] Training started...\n"
     ]
    },
    {
     "name": "stderr",
     "output_type": "stream",
     "text": [
      "[Trainer] Epochs:  10%|██▌                       | 1/10 [00:00<00:01,  6.13it/s]"
     ]
    },
    {
     "name": "stdout",
     "output_type": "stream",
     "text": [
      "[Trainer] Epoch 1/10 - Loss: 36.2499, Policy Loss: 26.1861, Value Loss: 10.0638\n"
     ]
    },
    {
     "name": "stderr",
     "output_type": "stream",
     "text": [
      "[Trainer] Epochs:  30%|███████▊                  | 3/10 [00:00<00:00,  8.97it/s]"
     ]
    },
    {
     "name": "stdout",
     "output_type": "stream",
     "text": [
      "[Trainer] Epoch 2/10 - Loss: 35.7273, Policy Loss: 25.7536, Value Loss: 9.9737\n",
      "[Trainer] Epoch 3/10 - Loss: 34.9408, Policy Loss: 24.9952, Value Loss: 9.9456\n",
      "[Trainer] Epoch 4/10 - Loss: 33.7958, Policy Loss: 23.9427, Value Loss: 9.8531\n"
     ]
    },
    {
     "name": "stderr",
     "output_type": "stream",
     "text": [
      "[Trainer] Epochs:  50%|█████████████             | 5/10 [00:00<00:00,  9.75it/s]"
     ]
    },
    {
     "name": "stdout",
     "output_type": "stream",
     "text": [
      "[Trainer] Epoch 5/10 - Loss: 32.2187, Policy Loss: 22.5739, Value Loss: 9.6448\n",
      "[Trainer] Epoch 6/10 - Loss: 31.1560, Policy Loss: 21.5180, Value Loss: 9.6380\n"
     ]
    },
    {
     "name": "stderr",
     "output_type": "stream",
     "text": [
      "[Trainer] Epochs:  70%|██████████████████▏       | 7/10 [00:00<00:00,  9.99it/s]"
     ]
    },
    {
     "name": "stdout",
     "output_type": "stream",
     "text": [
      "[Trainer] Epoch 7/10 - Loss: 30.5684, Policy Loss: 20.9819, Value Loss: 9.5865\n"
     ]
    },
    {
     "name": "stderr",
     "output_type": "stream",
     "text": [
      "[Trainer] Epochs:  90%|███████████████████████▍  | 9/10 [00:00<00:00, 10.21it/s]"
     ]
    },
    {
     "name": "stdout",
     "output_type": "stream",
     "text": [
      "[Trainer] Epoch 8/10 - Loss: 30.1418, Policy Loss: 20.4138, Value Loss: 9.7280\n",
      "[Trainer] Epoch 9/10 - Loss: 29.7196, Policy Loss: 20.2368, Value Loss: 9.4828\n"
     ]
    },
    {
     "name": "stderr",
     "output_type": "stream",
     "text": [
      "[Trainer] Epochs: 100%|█████████████████████████| 10/10 [00:01<00:00,  9.83it/s]"
     ]
    },
    {
     "name": "stdout",
     "output_type": "stream",
     "text": [
      "[Trainer] Epoch 10/10 - Loss: 29.3545, Policy Loss: 20.0140, Value Loss: 9.3405\n",
      "[Trainer] Training finished. Loss: 29.3545, Policy Loss: 20.0140, Value Loss: 9.3405\n",
      "Are the models the same?  True\n",
      "\n"
     ]
    },
    {
     "name": "stderr",
     "output_type": "stream",
     "text": [
      "\n"
     ]
    }
   ],
   "source": [
    "\n",
    "print()\n",
    "print(\"----- Training started -----\")\n",
    "trainer.train(data, epochs=10)\n",
    "\n",
    "print(\"Are the models the same? \", net == trainer.net)\n",
    "print()\n"
   ]
  },
  {
   "cell_type": "code",
   "execution_count": 3,
   "id": "ad2f5c6f",
   "metadata": {},
   "outputs": [
    {
     "name": "stdout",
     "output_type": "stream",
     "text": [
      "----- Model evaluation and promotion started -----\n"
     ]
    },
    {
     "name": "stderr",
     "output_type": "stream",
     "text": [
      "[Evaluator] Evaluating: 100%|███████████████████| 20/20 [00:00<00:00, 28.54it/s]"
     ]
    },
    {
     "name": "stdout",
     "output_type": "stream",
     "text": [
      "[Evaluator]: Candidate Win Rate: 25.00% (W:5 L:14 D:1)\n",
      "[Promoter]: ❌ Candidate rejected (win rate: 25.00%)\n",
      "\n",
      "----- Evaluation complete -----\n",
      "[Summary] Win rate: 25.00% | Metrics: {'wins': 5, 'losses': 14, 'draws': 1, 'total': 20, 'win_rate': 0.25}\n"
     ]
    },
    {
     "name": "stderr",
     "output_type": "stream",
     "text": [
      "\n"
     ]
    }
   ],
   "source": [
    "from promoter import ModelPromoter\n",
    "from evaluator import ModelEvaluator\n",
    "\n",
    "print(\"----- Model evaluation and promotion started -----\")\n",
    "evaluator = ModelEvaluator(game_class=TicTacToe, mcts_params={\"num_simulations\": 50})\n",
    "promoter = ModelPromoter(model_dir=\"models\", evaluator=evaluator, net_class=TicTacToeNet)\n",
    "NUM_SELF_PLAY_GAMES = 100\n",
    "\n",
    "best_net = promoter.get_best_model()\n",
    "win_rate, metrics = promoter.evaluate_and_maybe_promote(net, metadata={\"episode\": 0})\n",
    "\n",
    "print()\n",
    "print(\"----- Evaluation complete -----\")\n",
    "# Optional: Print summary\n",
    "print(f\"[Summary] Win rate: {win_rate:.2%} | Metrics: {metrics}\")"
   ]
  },
  {
   "cell_type": "code",
   "execution_count": null,
   "id": "8b5bb986",
   "metadata": {},
   "outputs": [],
   "source": []
  }
 ],
 "metadata": {
  "kernelspec": {
   "display_name": ".venv",
   "language": "python",
   "name": "python3"
  },
  "language_info": {
   "codemirror_mode": {
    "name": "ipython",
    "version": 3
   },
   "file_extension": ".py",
   "mimetype": "text/x-python",
   "name": "python",
   "nbconvert_exporter": "python",
   "pygments_lexer": "ipython3",
   "version": "3.11.6"
  }
 },
 "nbformat": 4,
 "nbformat_minor": 5
}
