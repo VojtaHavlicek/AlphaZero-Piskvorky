{
 "cells": [
  {
   "cell_type": "code",
   "execution_count": 2,
   "id": "edcb9a45",
   "metadata": {},
   "outputs": [
    {
     "name": "stdout",
     "output_type": "stream",
     "text": [
      "----- Self-play generation started -----\n"
     ]
    },
    {
     "ename": "RuntimeError",
     "evalue": "Broken pipe",
     "output_type": "error",
     "traceback": [
      "\u001b[31m---------------------------------------------------------------------------\u001b[39m",
      "\u001b[31mRuntimeError\u001b[39m                              Traceback (most recent call last)",
      "\u001b[36mCell\u001b[39m\u001b[36m \u001b[39m\u001b[32mIn[2]\u001b[39m\u001b[32m, line 11\u001b[39m\n\u001b[32m      9\u001b[39m \u001b[38;5;28mprint\u001b[39m(\u001b[33m\"\u001b[39m\u001b[33m----- Self-play generation started -----\u001b[39m\u001b[33m\"\u001b[39m)\n\u001b[32m     10\u001b[39m self_play_manager = SelfPlayManager(net, Gomoku)\n\u001b[32m---> \u001b[39m\u001b[32m11\u001b[39m data = \u001b[43mself_play_manager\u001b[49m\u001b[43m.\u001b[49m\u001b[43mgenerate_self_play\u001b[49m\u001b[43m(\u001b[49m\u001b[43mnum_games\u001b[49m\u001b[43m=\u001b[49m\u001b[32;43m100\u001b[39;49m\u001b[43m,\u001b[49m\u001b[43m \u001b[49m\u001b[43mnum_workers\u001b[49m\u001b[43m=\u001b[49m\u001b[32;43m8\u001b[39;49m\u001b[43m)\u001b[49m\n",
      "\u001b[36mFile \u001b[39m\u001b[32m~/Documents/GitHub/strategy-ai/alphazero/self_play.py:166\u001b[39m, in \u001b[36mSelfPlayManager.generate_self_play\u001b[39m\u001b[34m(self, num_games, num_workers, flatten)\u001b[39m\n\u001b[32m    160\u001b[39m workers = [\n\u001b[32m    161\u001b[39m     mp.Process(target=\u001b[38;5;28mself\u001b[39m._worker, args=(task_queue, result_queue, state_dict))\n\u001b[32m    162\u001b[39m     \u001b[38;5;28;01mfor\u001b[39;00m _ \u001b[38;5;129;01min\u001b[39;00m \u001b[38;5;28mrange\u001b[39m(num_workers)\n\u001b[32m    163\u001b[39m ]\n\u001b[32m    165\u001b[39m \u001b[38;5;28;01mfor\u001b[39;00m w \u001b[38;5;129;01min\u001b[39;00m workers:\n\u001b[32m--> \u001b[39m\u001b[32m166\u001b[39m     \u001b[43mw\u001b[49m\u001b[43m.\u001b[49m\u001b[43mstart\u001b[49m\u001b[43m(\u001b[49m\u001b[43m)\u001b[49m\n\u001b[32m    168\u001b[39m \u001b[38;5;28mprint\u001b[39m(\n\u001b[32m    169\u001b[39m     \u001b[33mf\u001b[39m\u001b[33m\"\u001b[39m\u001b[33m[SelfPlayManager] Collecting \u001b[39m\u001b[38;5;132;01m{\u001b[39;00mnum_games\u001b[38;5;132;01m}\u001b[39;00m\u001b[33m games with \u001b[39m\u001b[38;5;132;01m{\u001b[39;00mnum_workers\u001b[38;5;132;01m}\u001b[39;00m\u001b[33m workers.\u001b[39m\u001b[33m\"\u001b[39m\n\u001b[32m    170\u001b[39m )\n\u001b[32m    172\u001b[39m results = []\n",
      "\u001b[36mFile \u001b[39m\u001b[32m~/.pyenv/versions/3.11.6/lib/python3.11/multiprocessing/process.py:121\u001b[39m, in \u001b[36mBaseProcess.start\u001b[39m\u001b[34m(self)\u001b[39m\n\u001b[32m    118\u001b[39m \u001b[38;5;28;01massert\u001b[39;00m \u001b[38;5;129;01mnot\u001b[39;00m _current_process._config.get(\u001b[33m'\u001b[39m\u001b[33mdaemon\u001b[39m\u001b[33m'\u001b[39m), \\\n\u001b[32m    119\u001b[39m        \u001b[33m'\u001b[39m\u001b[33mdaemonic processes are not allowed to have children\u001b[39m\u001b[33m'\u001b[39m\n\u001b[32m    120\u001b[39m _cleanup()\n\u001b[32m--> \u001b[39m\u001b[32m121\u001b[39m \u001b[38;5;28mself\u001b[39m._popen = \u001b[38;5;28;43mself\u001b[39;49m\u001b[43m.\u001b[49m\u001b[43m_Popen\u001b[49m\u001b[43m(\u001b[49m\u001b[38;5;28;43mself\u001b[39;49m\u001b[43m)\u001b[49m\n\u001b[32m    122\u001b[39m \u001b[38;5;28mself\u001b[39m._sentinel = \u001b[38;5;28mself\u001b[39m._popen.sentinel\n\u001b[32m    123\u001b[39m \u001b[38;5;66;03m# Avoid a refcycle if the target function holds an indirect\u001b[39;00m\n\u001b[32m    124\u001b[39m \u001b[38;5;66;03m# reference to the process object (see bpo-30775)\u001b[39;00m\n",
      "\u001b[36mFile \u001b[39m\u001b[32m~/.pyenv/versions/3.11.6/lib/python3.11/multiprocessing/context.py:224\u001b[39m, in \u001b[36mProcess._Popen\u001b[39m\u001b[34m(process_obj)\u001b[39m\n\u001b[32m    222\u001b[39m \u001b[38;5;129m@staticmethod\u001b[39m\n\u001b[32m    223\u001b[39m \u001b[38;5;28;01mdef\u001b[39;00m\u001b[38;5;250m \u001b[39m\u001b[34m_Popen\u001b[39m(process_obj):\n\u001b[32m--> \u001b[39m\u001b[32m224\u001b[39m     \u001b[38;5;28;01mreturn\u001b[39;00m \u001b[43m_default_context\u001b[49m\u001b[43m.\u001b[49m\u001b[43mget_context\u001b[49m\u001b[43m(\u001b[49m\u001b[43m)\u001b[49m\u001b[43m.\u001b[49m\u001b[43mProcess\u001b[49m\u001b[43m.\u001b[49m\u001b[43m_Popen\u001b[49m\u001b[43m(\u001b[49m\u001b[43mprocess_obj\u001b[49m\u001b[43m)\u001b[49m\n",
      "\u001b[36mFile \u001b[39m\u001b[32m~/.pyenv/versions/3.11.6/lib/python3.11/multiprocessing/context.py:288\u001b[39m, in \u001b[36mSpawnProcess._Popen\u001b[39m\u001b[34m(process_obj)\u001b[39m\n\u001b[32m    285\u001b[39m \u001b[38;5;129m@staticmethod\u001b[39m\n\u001b[32m    286\u001b[39m \u001b[38;5;28;01mdef\u001b[39;00m\u001b[38;5;250m \u001b[39m\u001b[34m_Popen\u001b[39m(process_obj):\n\u001b[32m    287\u001b[39m     \u001b[38;5;28;01mfrom\u001b[39;00m\u001b[38;5;250m \u001b[39m\u001b[34;01m.\u001b[39;00m\u001b[34;01mpopen_spawn_posix\u001b[39;00m\u001b[38;5;250m \u001b[39m\u001b[38;5;28;01mimport\u001b[39;00m Popen\n\u001b[32m--> \u001b[39m\u001b[32m288\u001b[39m     \u001b[38;5;28;01mreturn\u001b[39;00m \u001b[43mPopen\u001b[49m\u001b[43m(\u001b[49m\u001b[43mprocess_obj\u001b[49m\u001b[43m)\u001b[49m\n",
      "\u001b[36mFile \u001b[39m\u001b[32m~/.pyenv/versions/3.11.6/lib/python3.11/multiprocessing/popen_spawn_posix.py:32\u001b[39m, in \u001b[36mPopen.__init__\u001b[39m\u001b[34m(self, process_obj)\u001b[39m\n\u001b[32m     30\u001b[39m \u001b[38;5;28;01mdef\u001b[39;00m\u001b[38;5;250m \u001b[39m\u001b[34m__init__\u001b[39m(\u001b[38;5;28mself\u001b[39m, process_obj):\n\u001b[32m     31\u001b[39m     \u001b[38;5;28mself\u001b[39m._fds = []\n\u001b[32m---> \u001b[39m\u001b[32m32\u001b[39m     \u001b[38;5;28;43msuper\u001b[39;49m\u001b[43m(\u001b[49m\u001b[43m)\u001b[49m\u001b[43m.\u001b[49m\u001b[34;43m__init__\u001b[39;49m\u001b[43m(\u001b[49m\u001b[43mprocess_obj\u001b[49m\u001b[43m)\u001b[49m\n",
      "\u001b[36mFile \u001b[39m\u001b[32m~/.pyenv/versions/3.11.6/lib/python3.11/multiprocessing/popen_fork.py:19\u001b[39m, in \u001b[36mPopen.__init__\u001b[39m\u001b[34m(self, process_obj)\u001b[39m\n\u001b[32m     17\u001b[39m \u001b[38;5;28mself\u001b[39m.returncode = \u001b[38;5;28;01mNone\u001b[39;00m\n\u001b[32m     18\u001b[39m \u001b[38;5;28mself\u001b[39m.finalizer = \u001b[38;5;28;01mNone\u001b[39;00m\n\u001b[32m---> \u001b[39m\u001b[32m19\u001b[39m \u001b[38;5;28;43mself\u001b[39;49m\u001b[43m.\u001b[49m\u001b[43m_launch\u001b[49m\u001b[43m(\u001b[49m\u001b[43mprocess_obj\u001b[49m\u001b[43m)\u001b[49m\n",
      "\u001b[36mFile \u001b[39m\u001b[32m~/.pyenv/versions/3.11.6/lib/python3.11/multiprocessing/popen_spawn_posix.py:47\u001b[39m, in \u001b[36mPopen._launch\u001b[39m\u001b[34m(self, process_obj)\u001b[39m\n\u001b[32m     45\u001b[39m \u001b[38;5;28;01mtry\u001b[39;00m:\n\u001b[32m     46\u001b[39m     reduction.dump(prep_data, fp)\n\u001b[32m---> \u001b[39m\u001b[32m47\u001b[39m     \u001b[43mreduction\u001b[49m\u001b[43m.\u001b[49m\u001b[43mdump\u001b[49m\u001b[43m(\u001b[49m\u001b[43mprocess_obj\u001b[49m\u001b[43m,\u001b[49m\u001b[43m \u001b[49m\u001b[43mfp\u001b[49m\u001b[43m)\u001b[49m\n\u001b[32m     48\u001b[39m \u001b[38;5;28;01mfinally\u001b[39;00m:\n\u001b[32m     49\u001b[39m     set_spawning_popen(\u001b[38;5;28;01mNone\u001b[39;00m)\n",
      "\u001b[36mFile \u001b[39m\u001b[32m~/.pyenv/versions/3.11.6/lib/python3.11/multiprocessing/reduction.py:60\u001b[39m, in \u001b[36mdump\u001b[39m\u001b[34m(obj, file, protocol)\u001b[39m\n\u001b[32m     58\u001b[39m \u001b[38;5;28;01mdef\u001b[39;00m\u001b[38;5;250m \u001b[39m\u001b[34mdump\u001b[39m(obj, file, protocol=\u001b[38;5;28;01mNone\u001b[39;00m):\n\u001b[32m     59\u001b[39m \u001b[38;5;250m    \u001b[39m\u001b[33;03m'''Replacement for pickle.dump() using ForkingPickler.'''\u001b[39;00m\n\u001b[32m---> \u001b[39m\u001b[32m60\u001b[39m     \u001b[43mForkingPickler\u001b[49m\u001b[43m(\u001b[49m\u001b[43mfile\u001b[49m\u001b[43m,\u001b[49m\u001b[43m \u001b[49m\u001b[43mprotocol\u001b[49m\u001b[43m)\u001b[49m\u001b[43m.\u001b[49m\u001b[43mdump\u001b[49m\u001b[43m(\u001b[49m\u001b[43mobj\u001b[49m\u001b[43m)\u001b[49m\n",
      "\u001b[36mFile \u001b[39m\u001b[32m~/Documents/GitHub/strategy-ai/.venv/lib/python3.11/site-packages/torch/multiprocessing/reductions.py:607\u001b[39m, in \u001b[36mreduce_storage\u001b[39m\u001b[34m(storage)\u001b[39m\n\u001b[32m    603\u001b[39m     \u001b[38;5;28;01mraise\u001b[39;00m \u001b[38;5;167;01mRuntimeError\u001b[39;00m(\n\u001b[32m    604\u001b[39m         \u001b[33m\"\u001b[39m\u001b[33mCannot pickle meta storage; try pickling a meta tensor instead\u001b[39m\u001b[33m\"\u001b[39m\n\u001b[32m    605\u001b[39m     )\n\u001b[32m    606\u001b[39m \u001b[38;5;28;01melif\u001b[39;00m get_sharing_strategy() == \u001b[33m\"\u001b[39m\u001b[33mfile_system\u001b[39m\u001b[33m\"\u001b[39m:\n\u001b[32m--> \u001b[39m\u001b[32m607\u001b[39m     metadata = \u001b[43mstorage\u001b[49m\u001b[43m.\u001b[49m\u001b[43m_share_filename_cpu_\u001b[49m\u001b[43m(\u001b[49m\u001b[43m)\u001b[49m\n\u001b[32m    608\u001b[39m     cache_key = metadata[\u001b[32m1\u001b[39m]\n\u001b[32m    609\u001b[39m     rebuild = rebuild_storage_filename\n",
      "\u001b[36mFile \u001b[39m\u001b[32m~/Documents/GitHub/strategy-ai/.venv/lib/python3.11/site-packages/torch/storage.py:447\u001b[39m, in \u001b[36m_share_memory_lock_protected.<locals>.wrapper\u001b[39m\u001b[34m(self, *args, **kwargs)\u001b[39m\n\u001b[32m    444\u001b[39m         \u001b[38;5;28;01mpass\u001b[39;00m\n\u001b[32m    446\u001b[39m \u001b[38;5;28;01mtry\u001b[39;00m:\n\u001b[32m--> \u001b[39m\u001b[32m447\u001b[39m     \u001b[38;5;28;01mreturn\u001b[39;00m \u001b[43mfn\u001b[49m\u001b[43m(\u001b[49m\u001b[38;5;28;43mself\u001b[39;49m\u001b[43m,\u001b[49m\u001b[43m \u001b[49m\u001b[43m*\u001b[49m\u001b[43margs\u001b[49m\u001b[43m,\u001b[49m\u001b[43m \u001b[49m\u001b[43m*\u001b[49m\u001b[43m*\u001b[49m\u001b[43mkwargs\u001b[49m\u001b[43m)\u001b[49m\n\u001b[32m    448\u001b[39m \u001b[38;5;28;01mfinally\u001b[39;00m:\n\u001b[32m    449\u001b[39m     \u001b[38;5;66;03m# If we acquired the storage lock here and we're done working on it\u001b[39;00m\n\u001b[32m    450\u001b[39m     \u001b[38;5;66;03m# we can now release it and free the entry.\u001b[39;00m\n\u001b[32m    451\u001b[39m     \u001b[38;5;28;01mif\u001b[39;00m to_free \u001b[38;5;129;01mis\u001b[39;00m \u001b[38;5;129;01mnot\u001b[39;00m \u001b[38;5;28;01mNone\u001b[39;00m:\n\u001b[32m    452\u001b[39m         \u001b[38;5;66;03m# Ensure that the cdata from the storage didn't change and only\u001b[39;00m\n\u001b[32m    453\u001b[39m         \u001b[38;5;66;03m# the data_ptr did.\u001b[39;00m\n",
      "\u001b[36mFile \u001b[39m\u001b[32m~/Documents/GitHub/strategy-ai/.venv/lib/python3.11/site-packages/torch/storage.py:526\u001b[39m, in \u001b[36mUntypedStorage._share_filename_cpu_\u001b[39m\u001b[34m(self, *args, **kwargs)\u001b[39m\n\u001b[32m    524\u001b[39m \u001b[38;5;129m@_share_memory_lock_protected\u001b[39m\n\u001b[32m    525\u001b[39m \u001b[38;5;28;01mdef\u001b[39;00m\u001b[38;5;250m \u001b[39m\u001b[34m_share_filename_cpu_\u001b[39m(\u001b[38;5;28mself\u001b[39m, *args, **kwargs):\n\u001b[32m--> \u001b[39m\u001b[32m526\u001b[39m     \u001b[38;5;28;01mreturn\u001b[39;00m \u001b[38;5;28;43msuper\u001b[39;49m\u001b[43m(\u001b[49m\u001b[43m)\u001b[49m\u001b[43m.\u001b[49m\u001b[43m_share_filename_cpu_\u001b[49m\u001b[43m(\u001b[49m\u001b[43m*\u001b[49m\u001b[43margs\u001b[49m\u001b[43m,\u001b[49m\u001b[43m \u001b[49m\u001b[43m*\u001b[49m\u001b[43m*\u001b[49m\u001b[43mkwargs\u001b[49m\u001b[43m)\u001b[49m\n",
      "\u001b[31mRuntimeError\u001b[39m: Broken pipe"
     ]
    }
   ],
   "source": [
    "from games import Gomoku\n",
    "from net import GomokuNet\n",
    "from self_play import SelfPlayManager\n",
    "from alphazero.controller import NeuralNetworkController\n",
    "\n",
    "net = GomokuNet()\n",
    "trainer = NeuralNetworkController(net, device=\"cpu\")\n",
    "\n",
    "print(\"----- Self-play generation started -----\")\n",
    "self_play_manager = SelfPlayManager(net, Gomoku)\n",
    "data = self_play_manager.generate_self_play(num_games=100, num_workers=8)"
   ]
  },
  {
   "cell_type": "code",
   "execution_count": 2,
   "id": "5c4d4468",
   "metadata": {},
   "outputs": [
    {
     "name": "stdout",
     "output_type": "stream",
     "text": [
      "----- Training started -----\n",
      "[Trainer] Training started...\n"
     ]
    },
    {
     "name": "stderr",
     "output_type": "stream",
     "text": [
      "[Trainer] Epochs:  50%|█████████████             | 5/10 [00:03<00:03,  1.36it/s]"
     ]
    },
    {
     "name": "stdout",
     "output_type": "stream",
     "text": [
      "Epoch 5: Total=83.8516, Policy=76.9145, Value=6.9372\n"
     ]
    },
    {
     "name": "stderr",
     "output_type": "stream",
     "text": [
      "[Trainer] Epochs: 100%|█████████████████████████| 10/10 [00:07<00:00,  1.37it/s]"
     ]
    },
    {
     "name": "stdout",
     "output_type": "stream",
     "text": [
      "Epoch 10: Total=77.2625, Policy=72.9401, Value=4.3224\n",
      "[Trainer] Training finished. Loss: 77.2625, Policy Loss: 72.9401, Value Loss: 4.3224\n"
     ]
    },
    {
     "name": "stderr",
     "output_type": "stream",
     "text": [
      "\n"
     ]
    }
   ],
   "source": [
    "import copy\n",
    "\n",
    "previous_net = copy.deepcopy(net)\n",
    "\n",
    "print(\"----- Training started -----\")\n",
    "trainer.train(data, epochs=10)\n",
    "\n",
    "#print(\"Did we learn?\", net != previous_net)"
   ]
  },
  {
   "cell_type": "code",
   "execution_count": 3,
   "id": "ad2f5c6f",
   "metadata": {},
   "outputs": [
    {
     "name": "stdout",
     "output_type": "stream",
     "text": [
      "----- Model evaluation and promotion started -----\n",
      "[Promoter] Choosen models/model_20250724_190951.pt for evaluation.\n",
      "[Promoter] Choosen models/model_20250724_190951.pt for evaluation.\n"
     ]
    },
    {
     "name": "stderr",
     "output_type": "stream",
     "text": [
      "[Evaluator] Evaluating:   0%|                            | 0/20 [00:00<?, ?it/s]"
     ]
    },
    {
     "name": "stderr",
     "output_type": "stream",
     "text": [
      "[Evaluator] Evaluating:   5%|█                   | 1/20 [00:00<00:05,  3.21it/s]"
     ]
    },
    {
     "name": "stdout",
     "output_type": "stream",
     "text": [
      "Gomoku(\n",
      "  |   |   | X | X\n",
      "O |   | O | X | O\n",
      "  |   | X |   |  \n",
      "  | X | O |   |  \n",
      "X | O |   |   |  \n",
      ")\n"
     ]
    },
    {
     "name": "stderr",
     "output_type": "stream",
     "text": [
      "[Evaluator] Evaluating:  10%|██                  | 2/20 [00:00<00:06,  2.66it/s]"
     ]
    },
    {
     "name": "stdout",
     "output_type": "stream",
     "text": [
      "Gomoku(\n",
      "O | X | O | X |  \n",
      "  | O | X | O | X\n",
      "X | X |   | O |  \n",
      "O | X | O | O | X\n",
      "X | X |   | O | O\n",
      ")\n"
     ]
    },
    {
     "name": "stderr",
     "output_type": "stream",
     "text": [
      "[Evaluator] Evaluating:  15%|███                 | 3/20 [00:01<00:06,  2.55it/s]"
     ]
    },
    {
     "name": "stdout",
     "output_type": "stream",
     "text": [
      "Gomoku(\n",
      "X |   |   | X | X\n",
      "X | X | O | O | O\n",
      "O | X | O |   | O\n",
      "  | X | X |   |  \n",
      "O |   |   | X | O\n",
      ")\n"
     ]
    },
    {
     "name": "stderr",
     "output_type": "stream",
     "text": [
      "[Evaluator] Evaluating:  20%|████                | 4/20 [00:01<00:05,  2.89it/s]"
     ]
    },
    {
     "name": "stdout",
     "output_type": "stream",
     "text": [
      "Gomoku(\n",
      "X | O | O | O | X\n",
      "  |   |   | O |  \n",
      "X |   | O | X | X\n",
      "X | O |   |   |  \n",
      "O |   |   |   | X\n",
      ")\n"
     ]
    },
    {
     "name": "stderr",
     "output_type": "stream",
     "text": [
      "[Evaluator] Evaluating:  25%|█████               | 5/20 [00:01<00:04,  3.35it/s]"
     ]
    },
    {
     "name": "stdout",
     "output_type": "stream",
     "text": [
      "Gomoku(\n",
      "O | X | X | X | X\n",
      "O | O | O |   |  \n",
      "X |   |   |   |  \n",
      "  |   | O |   |  \n",
      "  |   |   |   | X\n",
      ")\n"
     ]
    },
    {
     "name": "stderr",
     "output_type": "stream",
     "text": [
      "[Evaluator] Evaluating:  30%|██████              | 6/20 [00:01<00:04,  3.37it/s]"
     ]
    },
    {
     "name": "stdout",
     "output_type": "stream",
     "text": [
      "Gomoku(\n",
      "  | X |   |   |  \n",
      "X |   | X | O | O\n",
      "X |   |   | O |  \n",
      "O |   | X | O | X\n",
      "  |   |   | O |  \n",
      ")\n"
     ]
    },
    {
     "name": "stderr",
     "output_type": "stream",
     "text": [
      "[Evaluator] Evaluating:  40%|████████            | 8/20 [00:02<00:03,  3.11it/s]"
     ]
    },
    {
     "name": "stdout",
     "output_type": "stream",
     "text": [
      "Gomoku(\n",
      "O | X | X | X | X\n",
      "X | X |   | O | X\n",
      "O | O | X | O | X\n",
      "O | O | X | O | O\n",
      "O | X |   | X | O\n",
      ")\n",
      "Gomoku(\n",
      "  |   | O |   |  \n",
      "O | O |   | X |  \n",
      "  |   |   |   |  \n",
      "  | X | X | X | X\n",
      "O |   |   |   |  \n",
      ")\n"
     ]
    },
    {
     "name": "stderr",
     "output_type": "stream",
     "text": [
      "[Evaluator] Evaluating:  45%|█████████           | 9/20 [00:03<00:03,  3.09it/s]"
     ]
    },
    {
     "name": "stdout",
     "output_type": "stream",
     "text": [
      "Gomoku(\n",
      "  |   | X |   |  \n",
      "O | O | O | X |  \n",
      "  |   |   | X |  \n",
      "O | O | X | X | O\n",
      "  |   | X | X |  \n",
      ")\n"
     ]
    },
    {
     "name": "stderr",
     "output_type": "stream",
     "text": [
      "[Evaluator] Evaluating:  50%|█████████▌         | 10/20 [00:03<00:03,  2.95it/s]"
     ]
    },
    {
     "name": "stdout",
     "output_type": "stream",
     "text": [
      "Gomoku(\n",
      "X | X | O | X |  \n",
      "X |   | O | O | O\n",
      "  |   | X | O | O\n",
      "  | X | X | X | O\n",
      "O |   |   | X | O\n",
      ")\n"
     ]
    },
    {
     "name": "stderr",
     "output_type": "stream",
     "text": [
      "[Evaluator] Evaluating:  55%|██████████▍        | 11/20 [00:03<00:02,  3.06it/s]"
     ]
    },
    {
     "name": "stdout",
     "output_type": "stream",
     "text": [
      "Gomoku(\n",
      "O | X | X | O | X\n",
      "X | X | X | O |  \n",
      "  | X |   |   |  \n",
      "O | X |   |   |  \n",
      "  | O | O |   | O\n",
      ")\n"
     ]
    },
    {
     "name": "stderr",
     "output_type": "stream",
     "text": [
      "[Evaluator] Evaluating:  60%|███████████▍       | 12/20 [00:04<00:03,  2.61it/s]"
     ]
    },
    {
     "name": "stdout",
     "output_type": "stream",
     "text": [
      "Gomoku(\n",
      "O | O | X | X | X\n",
      "X | O | O | X | X\n",
      "X | O | X |   | O\n",
      "O | O | X | X |  \n",
      "  | O | O |   |  \n",
      ")\n"
     ]
    },
    {
     "name": "stderr",
     "output_type": "stream",
     "text": [
      "[Evaluator] Evaluating:  65%|████████████▎      | 13/20 [00:04<00:02,  2.77it/s]"
     ]
    },
    {
     "name": "stdout",
     "output_type": "stream",
     "text": [
      "Gomoku(\n",
      "X |   |   |   |  \n",
      "  | O |   |   | O\n",
      "X | O | X | O | X\n",
      "X | O |   | O | O\n",
      "X | O |   | X | X\n",
      ")\n"
     ]
    },
    {
     "name": "stderr",
     "output_type": "stream",
     "text": [
      "[Evaluator] Evaluating:  70%|█████████████▎     | 14/20 [00:04<00:02,  2.95it/s]"
     ]
    },
    {
     "name": "stdout",
     "output_type": "stream",
     "text": [
      "Gomoku(\n",
      "  | X |   |   | X\n",
      "O | O | O | O |  \n",
      "  |   |   | O |  \n",
      "O |   | X | X |  \n",
      "  |   |   | X | X\n",
      ")\n"
     ]
    },
    {
     "name": "stderr",
     "output_type": "stream",
     "text": [
      "[Evaluator] Evaluating:  75%|██████████████▎    | 15/20 [00:05<00:01,  2.52it/s]"
     ]
    },
    {
     "name": "stdout",
     "output_type": "stream",
     "text": [
      "Gomoku(\n",
      "X | O | O | O | X\n",
      "X | X | O | X | X\n",
      "O | X | O | X | X\n",
      "X | O | O | O |  \n",
      "X | O | O | O | X\n",
      ")\n"
     ]
    },
    {
     "name": "stderr",
     "output_type": "stream",
     "text": [
      "[Evaluator] Evaluating:  80%|███████████████▏   | 16/20 [00:05<00:01,  2.33it/s]"
     ]
    },
    {
     "name": "stdout",
     "output_type": "stream",
     "text": [
      "Gomoku(\n",
      "O | X |   |   | O\n",
      "X | X | X |   | O\n",
      "O | O | O | O | X\n",
      "X | X | O | O | O\n",
      "X | X |   |   | X\n",
      ")\n"
     ]
    },
    {
     "name": "stderr",
     "output_type": "stream",
     "text": [
      "[Evaluator] Evaluating:  85%|████████████████▏  | 17/20 [00:06<00:01,  2.50it/s]"
     ]
    },
    {
     "name": "stdout",
     "output_type": "stream",
     "text": [
      "Gomoku(\n",
      "O | O | X | O |  \n",
      "  | X | X | X | X\n",
      "X |   |   | O | O\n",
      "X |   |   |   |  \n",
      "  |   | O |   |  \n",
      ")\n"
     ]
    },
    {
     "name": "stderr",
     "output_type": "stream",
     "text": [
      "[Evaluator] Evaluating:  90%|█████████████████  | 18/20 [00:06<00:00,  2.26it/s]"
     ]
    },
    {
     "name": "stdout",
     "output_type": "stream",
     "text": [
      "Gomoku(\n",
      "O | O | X | O | X\n",
      "O | X | O |   | O\n",
      "X | X | O | X | X\n",
      "X | X | X | O |  \n",
      "O | X | X | O | O\n",
      ")\n"
     ]
    },
    {
     "name": "stderr",
     "output_type": "stream",
     "text": [
      "[Evaluator] Evaluating:  95%|██████████████████ | 19/20 [00:07<00:00,  2.21it/s]"
     ]
    },
    {
     "name": "stdout",
     "output_type": "stream",
     "text": [
      "Gomoku(\n",
      "O | O |   | O | X\n",
      "X |   | O | O | X\n",
      "O | X | X |   |  \n",
      "X | O | X | X |  \n",
      "X |   | O | X | O\n",
      ")\n"
     ]
    },
    {
     "name": "stderr",
     "output_type": "stream",
     "text": [
      "[Evaluator] Evaluating: 100%|███████████████████| 20/20 [00:07<00:00,  2.66it/s]"
     ]
    },
    {
     "name": "stdout",
     "output_type": "stream",
     "text": [
      "Gomoku(\n",
      "X |   | X |   | X\n",
      "X |   |   |   | O\n",
      "  | O | X | X | O\n",
      "X |   | O |   | O\n",
      "O |   |   |   | O\n",
      ")\n",
      "[Evaluator]: Candidate Win Rate: 80.00% (W:16 L:4 D:0)\n",
      "[Promoter]: ✅ Promoted new model with win rate 80.00%: models/model_20250724_190951.pt → models/model_20250724_191120.pt\n",
      "Metadata: {'episode': 0}\n",
      "\n",
      "----- Evaluation complete -----\n",
      "[Summary] Win rate: 80.00% | Metrics: {'wins': 16, 'losses': 4, 'draws': 0, 'total': 20, 'win_rate': 0.8}\n"
     ]
    },
    {
     "name": "stderr",
     "output_type": "stream",
     "text": [
      "\n"
     ]
    }
   ],
   "source": [
    "from evaluator import ModelEvaluator\n",
    "from promoter import ModelPromoter\n",
    "\n",
    "print(\"----- Model evaluation and promotion started -----\")\n",
    "evaluator = ModelEvaluator(game_class=Gomoku, mcts_params={\"num_simulations\": 100})\n",
    "promoter = ModelPromoter(\n",
    "    model_dir=\"models\", evaluator=evaluator, net_class=GomokuNet\n",
    ")\n",
    "\n",
    "best_net = promoter.get_best_model()\n",
    "win_rate, metrics, _ = promoter.evaluate_and_maybe_promote(net, metadata={\"episode\": 0}, debug=True)\n",
    "\n",
    "print()\n",
    "print(\"----- Evaluation complete -----\")\n",
    "# Optional: Print summary\n",
    "print(f\"[Summary] Win rate: {win_rate:.2%} | Metrics: {metrics}\")"
   ]
  },
  {
   "cell_type": "code",
   "execution_count": 6,
   "id": "4c0df66d",
   "metadata": {},
   "outputs": [],
   "source": [
    "from main import human_vs_ai"
   ]
  },
  {
   "cell_type": "code",
   "execution_count": 7,
   "id": "8b5bb986",
   "metadata": {},
   "outputs": [
    {
     "name": "stdout",
     "output_type": "stream",
     "text": [
      "You are playing <class 'games.Gomoku'>\n",
      "Gomoku(\n",
      "  |   |   |   |  \n",
      "  |   |   |   |  \n",
      "  |   |   |   |  \n",
      "  |   |   |   |  \n",
      "  |   |   |   |  \n",
      ")\n",
      "Gomoku(\n",
      "  |   |   |   |  \n",
      "  | X |   |   |  \n",
      "  |   |   |   |  \n",
      "  |   |   |   |  \n",
      "  |   |   |   |  \n",
      ")\n",
      "🤖 AI is thinking...\n",
      "🤖 AI plays: (0, 0)\n",
      "Gomoku(\n",
      "O |   |   |   |  \n",
      "  | X |   |   |  \n",
      "  |   |   |   |  \n",
      "  |   |   |   |  \n",
      "  |   |   |   |  \n",
      ")\n",
      "Gomoku(\n",
      "O | X |   |   |  \n",
      "  | X |   |   |  \n",
      "  |   |   |   |  \n",
      "  |   |   |   |  \n",
      "  |   |   |   |  \n",
      ")\n",
      "🤖 AI is thinking...\n",
      "🤖 AI plays: (3, 0)\n",
      "Gomoku(\n",
      "O | X |   |   |  \n",
      "  | X |   |   |  \n",
      "  |   |   |   |  \n",
      "O |   |   |   |  \n",
      "  |   |   |   |  \n",
      ")\n",
      "Gomoku(\n",
      "O | X |   |   |  \n",
      "  | X |   |   |  \n",
      "  | X |   |   |  \n",
      "O |   |   |   |  \n",
      "  |   |   |   |  \n",
      ")\n",
      "🤖 AI is thinking...\n",
      "🤖 AI plays: (1, 4)\n",
      "Gomoku(\n",
      "O | X |   |   |  \n",
      "  | X |   |   | O\n",
      "  | X |   |   |  \n",
      "O |   |   |   |  \n",
      "  |   |   |   |  \n",
      ")\n",
      "Gomoku(\n",
      "O | X |   |   |  \n",
      "  | X |   |   | O\n",
      "  | X | X |   |  \n",
      "O |   |   |   |  \n",
      "  |   |   |   |  \n",
      ")\n",
      "🤖 AI is thinking...\n",
      "🤖 AI plays: (4, 2)\n",
      "Gomoku(\n",
      "O | X |   |   |  \n",
      "  | X |   |   | O\n",
      "  | X | X |   |  \n",
      "O |   |   |   |  \n",
      "  |   | O |   |  \n",
      ")\n",
      "Gomoku(\n",
      "O | X |   |   |  \n",
      "  | X |   |   | O\n",
      "  | X | X |   |  \n",
      "O | X |   |   |  \n",
      "  |   | O |   |  \n",
      ")\n",
      "🎉 You win!\n"
     ]
    }
   ],
   "source": [
    "human_vs_ai(model=net)"
   ]
  },
  {
   "cell_type": "code",
   "execution_count": 8,
   "id": "8ca7d832",
   "metadata": {},
   "outputs": [],
   "source": [
    "test = [[1,2,3],\n",
    "        [4,5,6], \n",
    "        [7,8,9]]"
   ]
  },
  {
   "cell_type": "code",
   "execution_count": 12,
   "id": "70dd6a57",
   "metadata": {},
   "outputs": [
    {
     "data": {
      "text/plain": [
       "[(7, 4, 1), (8, 5, 2), (9, 6, 3)]"
      ]
     },
     "execution_count": 12,
     "metadata": {},
     "output_type": "execute_result"
    }
   ],
   "source": [
    "list(zip(*test[::-1])) # This will rotate the matrix 90 degrees clockwise"
   ]
  },
  {
   "cell_type": "code",
   "execution_count": 14,
   "id": "a1389b90",
   "metadata": {},
   "outputs": [
    {
     "data": {
      "text/plain": [
       "[[7, 8, 9], [4, 5, 6], [1, 2, 3]]"
      ]
     },
     "execution_count": 14,
     "metadata": {},
     "output_type": "execute_result"
    }
   ],
   "source": [
    "test[::-1]"
   ]
  },
  {
   "cell_type": "code",
   "execution_count": null,
   "id": "1295483a",
   "metadata": {},
   "outputs": [],
   "source": []
  }
 ],
 "metadata": {
  "kernelspec": {
   "display_name": ".venv",
   "language": "python",
   "name": "python3"
  },
  "language_info": {
   "codemirror_mode": {
    "name": "ipython",
    "version": 3
   },
   "file_extension": ".py",
   "mimetype": "text/x-python",
   "name": "python",
   "nbconvert_exporter": "python",
   "pygments_lexer": "ipython3",
   "version": "3.11.6"
  }
 },
 "nbformat": 4,
 "nbformat_minor": 5
}
